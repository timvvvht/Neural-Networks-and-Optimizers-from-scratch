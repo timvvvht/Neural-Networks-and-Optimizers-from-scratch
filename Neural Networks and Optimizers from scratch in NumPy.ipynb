{
 "cells": [
  {
   "cell_type": "code",
   "execution_count": 128,
   "metadata": {},
   "outputs": [],
   "source": [
    "import numpy as np\n",
    "import tensorflow.keras.datasets.mnist as mnist\n",
    "\n",
    "import matplotlib.pyplot as plt\n",
    "import plotly.graph_objs as go"
   ]
  },
  {
   "cell_type": "code",
   "execution_count": 2,
   "metadata": {},
   "outputs": [],
   "source": [
    "# Load data from tensorflow\n",
    "data = mnist.load_data()"
   ]
  },
  {
   "cell_type": "code",
   "execution_count": 3,
   "metadata": {},
   "outputs": [],
   "source": [
    "(x_train, y_train), (x_test, y_test) = data"
   ]
  },
  {
   "cell_type": "code",
   "execution_count": 4,
   "metadata": {},
   "outputs": [
    {
     "data": {
      "text/plain": [
       "((60000, 28, 28), (60000,), (10000, 28, 28), (10000,))"
      ]
     },
     "execution_count": 4,
     "metadata": {},
     "output_type": "execute_result"
    }
   ],
   "source": [
    "x_train.shape, y_train.shape, x_test.shape, y_test.shape"
   ]
  },
  {
   "cell_type": "code",
   "execution_count": 5,
   "metadata": {},
   "outputs": [
    {
     "data": {
      "text/plain": [
       "<matplotlib.image.AxesImage at 0x143ffd130>"
      ]
     },
     "execution_count": 5,
     "metadata": {},
     "output_type": "execute_result"
    },
    {
     "data": {
      "image/png": "[encoded data removed]",
      "text/plain": [
       "<Figure size 432x288 with 1 Axes>"
      ]
     },
     "metadata": {
      "needs_background": "light"
     },
     "output_type": "display_data"
    }
   ],
   "source": [
    "plt.imshow(x_train[0])"
   ]
  },
  {
   "cell_type": "code",
   "execution_count": 6,
   "metadata": {},
   "outputs": [
    {
     "name": "stdout",
     "output_type": "stream",
     "text": [
      "(60000, 784) (10000, 784)\n"
     ]
    }
   ],
   "source": [
    "# Preprocess data\n",
    "# Reshape (flatten)\n",
    "x_train = x_train.reshape(x_train.shape[0], -1)\n",
    "x_test = x_test.reshape(x_test.shape[0], -1)\n",
    "print(x_train.shape, x_test.shape)\n",
    "\n",
    "# Normalize data within {0,1} + dtype conversion\n",
    "x_train = np.array(x_train/255., dtype=np.float32)\n",
    "x_test = np.array(x_test/255., dtype=np.float32)"
   ]
  },
  {
   "cell_type": "code",
   "execution_count": 7,
   "metadata": {},
   "outputs": [],
   "source": [
    "# Function to convert labels to one-hot encodings\n",
    "def one_hot(Y):\n",
    "    num_labels = len(set(Y))\n",
    "    new_Y = []\n",
    "    for label in Y:\n",
    "        encoding = np.zeros(num_labels)\n",
    "        encoding[label] = 1.\n",
    "        new_Y.append(encoding)\n",
    "    return np.array(new_Y)"
   ]
  },
  {
   "cell_type": "code",
   "execution_count": 8,
   "metadata": {},
   "outputs": [
    {
     "data": {
      "text/plain": [
       "((60000, 10), (10000, 10))"
      ]
     },
     "execution_count": 8,
     "metadata": {},
     "output_type": "execute_result"
    }
   ],
   "source": [
    "y_train = one_hot(y_train)\n",
    "y_test = one_hot(y_test)\n",
    "y_train.shape, y_test.shape"
   ]
  },
  {
   "cell_type": "code",
   "execution_count": 9,
   "metadata": {},
   "outputs": [],
   "source": [
    "# Layer object to handle weights, biases, activation (if any) of a layer\n",
    "\n",
    "class Layer:\n",
    "    def __init__(self, hidden_units: int, activation:str=None):\n",
    "        self.hidden_units = hidden_units\n",
    "        self.activation = activation\n",
    "        self.W = None\n",
    "        self.b = None\n",
    "        \n",
    "    def initialize_params(self, n_in, hidden_units):\n",
    "        params = dict()\n",
    "        np.random.seed(42)\n",
    "        self.W = np.random.randn(n_in, hidden_units) * np.sqrt(2/n_in) \n",
    "        np.random.seed(42)\n",
    "        self.b = np.zeros((1, hidden_units))\n",
    "    \n",
    "    def forward(self, X):\n",
    "        self.input = np.array(X, copy=True)\n",
    "        if self.W is None:\n",
    "            self.initialize_params(self.input.shape[-1], self.hidden_units)\n",
    "\n",
    "        self.Z = X @ self.W + self.b\n",
    "        \n",
    "        if self.activation is not None:\n",
    "            self.A = self.activation_fn(self.Z)\n",
    "            return self.A\n",
    "        return self.Z\n",
    "    \n",
    "    def activation_fn(self, z, derivative=False):\n",
    "        if self.activation == 'relu':\n",
    "            if derivative:\n",
    "                return self.drelu(z)\n",
    "            return self.relu(z)\n",
    "        if self.activation == 'sigmoid':\n",
    "            if derivative:\n",
    "                return self.dsigmoid(z)\n",
    "            return self.sigmoid(z)\n",
    "        if self.activation == 'softmax':\n",
    "            if derivative: \n",
    "                return self.dsoftmax(z)\n",
    "            return self.softmax(z)\n",
    "\n",
    "    @staticmethod\n",
    "    def sigmoid(z):\n",
    "        return 1 / (1 + np.exp(-z))\n",
    "\n",
    "    @staticmethod\n",
    "    def dsigmoid(z):\n",
    "        return Layer.sigmoid(z) * (1-Layer.sigmoid(z))\n",
    "\n",
    "    @staticmethod\n",
    "    def relu(z):\n",
    "        return np.maximum(0, z)\n",
    "\n",
    "    @staticmethod\n",
    "    def drelu(z):\n",
    "        return np.where(z<=0,0,1)\n",
    "\n",
    "    @staticmethod\n",
    "    def softmax(x):  # numerically stable version of softmax \n",
    "        exp = np.exp(x - np.max(x, axis=1, keepdims=True))\n",
    "        return exp / np.sum(exp, axis=1, keepdims=True)\n",
    "\n",
    "    @staticmethod\n",
    "    def dsoftmax(x):\n",
    "        exp = np.exp(x - np.max(x, axis=1, keepdims=True)) \n",
    "        return exps / np.sum(exps, axis=0) * (1 - exps / np.sum(exps, axis=0))\n",
    "\n",
    "    def __repr__(self):\n",
    "        return str(f'''Hidden Units={self.hidden_units}; Activation={self.activation}''')"
   ]
  },
  {
   "cell_type": "code",
   "execution_count": 132,
   "metadata": {},
   "outputs": [],
   "source": [
    "class Model:\n",
    "    def __init__(self):\n",
    "        self.layers = dict()\n",
    "        self.cache = dict()\n",
    "        self.grads = dict()\n",
    "        \n",
    "    def add(self, layer):\n",
    "        self.layers[len(self.layers)+1] = layer\n",
    "        \n",
    "    def set_config(self, epochs, alpha, optimizer=None, lr_decay=False):\n",
    "        self.epochs = epochs\n",
    "        self.alpha = alpha\n",
    "        self.optimizer = optimizer\n",
    "        self.lr_decay = lr_decay\n",
    "\n",
    "        # below dictionaries used as \"cache\" for more complicated optimizers\n",
    "        self.v, self.m = dict(), dict()\n",
    "        for idx in self.layers.keys():\n",
    "            self.v[f'W{idx}'] = 0\n",
    "            self.v[f'b{idx}'] = 0\n",
    "            self.m[f'W{idx}'] = 0\n",
    "            self.m[f'b{idx}'] = 0\n",
    "\n",
    "    def forward(self, x):\n",
    "        for idx, layer in self.layers.items():\n",
    "            x = layer.forward(x)\n",
    "            self.cache[f'W{idx}'] = layer.W\n",
    "            self.cache[f'Z{idx}'] = layer.Z\n",
    "            self.cache[f'A{idx}'] = layer.A\n",
    "        return x\n",
    "\n",
    "    def backward(self, y):\n",
    "        last_layer_idx = max(model.layers.keys())\n",
    "        m = y.shape[0]\n",
    "        # back prop through all dZs \n",
    "        for idx in reversed(range(1, last_layer_idx+1)):\n",
    "            if idx == last_layer_idx:\n",
    "                # e.g. dZ3 = y_pred - y_true for a 3 layer network \n",
    "                self.grads[f'dZ{idx}'] = self.cache[f'A{idx}'] - y\n",
    "            else:\n",
    "                # dZn = dZ(n+1) dot W(n+1) * inverse derivative of activation function of Layer n, with Zn as input \n",
    "                self.grads[f'dZ{idx}'] = self.grads[f'dZ{idx+1}'] @ self.cache[f'W{idx+1}'].T * self.layers[idx].activation_fn(self.cache[f'Z{idx}'], derivative=True)\n",
    "            self.grads[f'dW{idx}'] = 1 / m * self.layers[idx].input.T @ self.grads[f'dZ{idx}']\n",
    "            self.grads[f'db{idx}'] = 1 / m * np.sum(self.grads[f'dZ{idx}'], axis=0, keepdims=True)\n",
    "            \n",
    "            assert self.grads[f'dW{idx}'].shape == self.cache[f'W{idx}'].shape\n",
    "\n",
    "    def update_params(self, epoch_num, steps):\n",
    "        for idx in self.layers.keys():\n",
    "            self.optimize(idx, epoch_num, steps)\n",
    " \n",
    "            \n",
    "    def fit(self, x_train, y_train, x_test=None, y_test=None, batch_size=32):\n",
    "        '''Training cycle of the model object'''\n",
    "        losses = []\n",
    "        train_accs = []\n",
    "        val_accs = []\n",
    "\n",
    "        for i in range(1, self.epochs+1):\n",
    "            print(f'Epoch {i}')\n",
    "            batches = self.create_batches(x_train, y_train, batch_size)\n",
    "            epoch_loss = []\n",
    "            steps = 0\n",
    "            \n",
    "            for x, y in batches:\n",
    "                steps += 1\n",
    "                preds = self.forward(x)\n",
    "                loss = self.compute_loss(y, preds)\n",
    "                epoch_loss.append(loss)\n",
    "\n",
    "                # Backward propagation - calculation of gradients \n",
    "                self.backward(y)\n",
    "                \n",
    "                # update weights and biases of each layer\n",
    "                self.update_params(i, steps)\n",
    "                \n",
    "            loss = sum(epoch_loss) / len(epoch_loss)\n",
    "            losses.append(loss)\n",
    "\n",
    "            train_preds = self.forward(x_train)\n",
    "            c = np.argmax(train_preds, axis=1) == np.argmax(y_train, axis=1)\n",
    "            train_acc = list(c).count(True) / len(c) * 100\n",
    "            train_accs.append(train_acc)\n",
    "                \n",
    "            if x_test is not None:\n",
    "                test_preds = self.forward(x_test)\n",
    "                c = np.argmax(test_preds, axis=1) == np.argmax(y_test, axis=1)\n",
    "                val_acc = list(c).count(True)/len(c) * 100\n",
    "                val_accs.append(val_acc)\n",
    "\n",
    "                print(f'Loss:{loss} Train Acc: {train_acc} Val Acc: {val_acc}')\n",
    "                \n",
    "        self.history = {'train_loss': losses, 'train_acc': train_accs, 'val_acc': val_accs}\n",
    "\n",
    "    def optimize(self, idx, epoch_num, steps):  \n",
    "        if self.lr_decay:\n",
    "            # (optional) learning_rate decays by 0.8 every 5 epochs \n",
    "            decay_rate = 0.8\n",
    "            lr = self.alpha * decay_rate ** int(epoch_num / 5) \n",
    "        else:\n",
    "            lr = self.alpha\n",
    "\n",
    "        if self.optimizer is None:\n",
    "            ''' Vanilla mini-batch gradient descent  '''\n",
    "            self.layers[idx].W -= lr* self.grads[f'dW{idx}']\n",
    "            self.layers[idx].b -= lr * self.grads[f'db{idx}']\n",
    "\n",
    "        if self.optimizer == 'momentum':\n",
    "            '''  Momentum builds up velocity in any direction that has consistent gradient\n",
    "              Gradient Descent with momentum '''\n",
    "            max_mu = 0.99\n",
    "            mu_init = 0.5\n",
    "            # increase mu by a factor of 1.2 every epoch until max_mu is reached (only applicable for momentum and nesterov momentum)\n",
    "            mu = min(mu_init * 1.2 ** (epoch_num - 1), max_mu)\n",
    "            \n",
    "            self.v[f'W{idx}'] = self.v[f'W{idx}'] * mu - lr * self.grads[f'dW{idx}']\n",
    "            self.v[f'b{idx}'] = self.v[f'b{idx}'] * mu - lr * self.grads[f'db{idx}']\n",
    "            self.layers[idx].W += self.v[f'W{idx}']\n",
    "            self.layers[idx].b += self.v[f'b{idx}']\n",
    "\n",
    "        if self.optimizer == 'nesterov':\n",
    "            '''Nesterov's Accelerated Momentum: https://arxiv.org/pdf/1212.0901v2.pdf'''\n",
    "            max_mu = 0.99\n",
    "            mu_init = 0.5\n",
    "            # increase mu by a factor of 1.2 every epoch until max_mu is reached (only applicable for momentum and nesterov momentum)\n",
    "            mu = min(mu_init * 1.2 ** (epoch_num - 1), max_mu)\n",
    "            \n",
    "            vW_prev =  np.array(self.v[f'W{idx}'], copy=True)\n",
    "            vb_prev = np.array(self.v[f'b{idx}'], copy=True)\n",
    "\n",
    "            self.v[f'W{idx}'] = self.v[f'W{idx}'] * mu - lr * self.grads[f'dW{idx}']\n",
    "            self.v[f'b{idx}'] = self.v[f'b{idx}'] * mu - lr * self.grads[f'db{idx}']\n",
    "\n",
    "            w_update = -mu * vW_prev + (1 + mu) * self.v[f'W{idx}']\n",
    "            b_update = -mu * vb_prev + (1 + mu) * self.v[f'b{idx}']\n",
    "\n",
    "            assert w_update.shape == self.layers[idx].W.shape\n",
    "            assert b_update.shape == self.layers[idx].b.shape\n",
    "\n",
    "            self.layers[idx].W += w_update\n",
    "            self.layers[idx].b += b_update\n",
    "\n",
    "        if self.optimizer == 'adagrad':\n",
    "            '''Adagrad: https://jmlr.org/papers/volume12/duchi11a/duchi11a.pdf'''\n",
    "            eps = 1e-8\n",
    "            self.v[f'W{idx}'] += self.grads[f'dW{idx}'] **2 \n",
    "            self.v[f'b{idx}'] += self.grads[f'db{idx}'] **2\n",
    "\n",
    "            w_update = - lr * self.grads[f'dW{idx}'] / (np.sqrt(self.v[f'W{idx}'] + eps))\n",
    "            b_update = - lr * self.grads[f'db{idx}'] / (np.sqrt(self.v[f'b{idx}']+ eps))\n",
    "            assert w_update.shape == self.layers[idx].W.shape\n",
    "            assert b_update.shape == self.layers[idx].b.shape\n",
    "            self.layers[idx].W += w_update\n",
    "            self.layers[idx].b += b_update\n",
    "\n",
    "        if self.optimizer == 'adadelta':\n",
    "            '''Adaptive learning rate method without the need to explicitly set a \n",
    "                learning rate : https://arxiv.org/pdf/1212.5701.pdf'''\n",
    "            eps = 1e-8\n",
    "            gamma = 0.9\n",
    "\n",
    "            # squared grad var\n",
    "            self.v[f'W{idx}'] = gamma * self.v[f'W{idx}'] + (1 - gamma) * self.grads[f'dW{idx}'] ** 2\n",
    "            self.v[f'b{idx}'] = gamma * self.v[f'b{idx}'] + (1 - gamma) * self.grads[f'db{idx}'] ** 2\n",
    "\n",
    "            w_update = - np.sqrt(self.m[f'W{idx}'] + eps) / np.sqrt(self.v[f'W{idx}'] + eps) * self.grads[f'dW{idx}'] \n",
    "            b_update = - np.sqrt(self.m[f'b{idx}'] + eps) / np.sqrt(self.v[f'b{idx}'] + eps) * self.grads[f'db{idx}'] \n",
    "\n",
    "            # grad updates var \n",
    "            self.m[f'W{idx}'] = gamma * self.m[f'W{idx}']  + (1 - gamma) * w_update ** 2\n",
    "            self.m[f'b{idx}'] = gamma * self.m[f'b{idx}']  + (1 - gamma) * b_update ** 2\n",
    "\n",
    "            assert w_update.shape == self.layers[idx].W.shape\n",
    "            assert b_update.shape == self.layers[idx].b.shape\n",
    "            self.layers[idx].W += w_update\n",
    "            self.layers[idx].b += b_update\n",
    "\n",
    "        if self.optimizer == 'RMSprop':\n",
    "            eps = 1e-8\n",
    "            decay_rate = 0.9\n",
    "            self.v[f'W{idx}'] = decay_rate * self.v[f'W{idx}'] + (1 - decay_rate) * self.grads[f'dW{idx}'] **2 \n",
    "            self.v[f'b{idx}'] = decay_rate * self.v[f'b{idx}'] + (1 - decay_rate) * self.grads[f'db{idx}'] **2 \n",
    "\n",
    "            w_update = - lr * self.grads[f'dW{idx}'] / (np.sqrt(self.v[f'W{idx}'] + eps))\n",
    "            b_update = - lr * self.grads[f'db{idx}'] / (np.sqrt(self.v[f'b{idx}']+ eps))\n",
    "            assert w_update.shape == self.layers[idx].W.shape\n",
    "            assert b_update.shape == self.layers[idx].b.shape\n",
    "            self.layers[idx].W += w_update\n",
    "            self.layers[idx].b += b_update            \n",
    "        \n",
    "        if self.optimizer == 'Adam':\n",
    "            '''One of the most popular first-order gradient descent algorithms with momentum\n",
    "                terms : https://arxiv.org/pdf/1412.6980.pdf'''\n",
    "            eps = 1e-8\n",
    "            beta1, beta2 = 0.9, 0.999\n",
    "\n",
    "            self.m[f'W{idx}'] = beta1 * self.m[f'W{idx}'] + (1 - beta1) * self.grads[f'dW{idx}']\n",
    "            self.v[f'W{idx}'] = beta2 * self.v[f'W{idx}'] + (1 - beta2) * self.grads[f'dW{idx}'] ** 2 \n",
    "\n",
    "            self.m[f'b{idx}'] = beta1 * self.m[f'b{idx}'] + (1 - beta1) * self.grads[f'db{idx}']\n",
    "            self.v[f'b{idx}'] = beta2 * self.v[f'b{idx}'] + (1 - beta2) * self.grads[f'db{idx}'] ** 2 \n",
    "\n",
    "            mt_w  = self.m[f'W{idx}'] / (1 - beta1 ** steps)\n",
    "            vt_w = self.v[f'W{idx}'] / (1 - beta2 ** steps)\n",
    "\n",
    "            mt_b  = self.m[f'b{idx}'] / (1 - beta1 ** steps)\n",
    "            vt_b = self.v[f'b{idx}'] / (1 - beta2 ** steps)\n",
    "\n",
    "            w_update = - lr * mt_w / (np.sqrt(vt_w) + eps)\n",
    "            b_update = - lr * mt_b / (np.sqrt(vt_b) + eps)\n",
    "\n",
    "            assert w_update.shape == self.layers[idx].W.shape\n",
    "            assert b_update.shape == self.layers[idx].b.shape\n",
    "            self.layers[idx].W += w_update\n",
    "            self.layers[idx].b += b_update\n",
    "\n",
    "        if self.optimizer == 'Adamax':\n",
    "            eps = 1e-8\n",
    "            beta1, beta2 = 0.9, 0.999\n",
    "\n",
    "            self.m[f'W{idx}'] = beta1 * self.m[f'W{idx}'] + (1 - beta1) * self.grads[f'dW{idx}']                \n",
    "            self.v[f'W{idx}'] = np.maximum(beta2 * self.v[f'W{idx}'],  abs(self.grads[f'dW{idx}']))\n",
    "            self.m[f'b{idx}'] = beta1 * self.m[f'b{idx}'] + (1 - beta1) * self.grads[f'db{idx}']\n",
    "            self.v[f'b{idx}'] = np.maximum(beta2 * self.v[f'b{idx}'],  abs(self.grads[f'db{idx}']))\n",
    "\n",
    "            mt_w  = self.m[f'W{idx}'] / (1 - beta1 ** steps)\n",
    "            vt_w = self.v[f'W{idx}'] / (1 - beta2 ** steps)\n",
    "\n",
    "            mt_b  = self.m[f'b{idx}'] / (1 - beta1 ** steps)\n",
    "            vt_b = self.v[f'b{idx}'] / (1 - beta2 ** steps)\n",
    "            assert steps != 0  # or else it will divide by 0 \n",
    "            w_update = - (lr / (1 - beta1 ** steps )) * mt_w / (vt_w + eps)\n",
    "            b_update = - (lr / (1 - beta1 ** steps )) * mt_b / (vt_b + eps) \n",
    "\n",
    "            assert w_update.shape == self.layers[idx].W.shape\n",
    "            assert b_update.shape == self.layers[idx].b.shape\n",
    "            self.layers[idx].W += w_update\n",
    "            self.layers[idx].b += b_update\n",
    "        \n",
    "        if self.optimizer == 'AdamW':\n",
    "            '''Adam with decoupled weight decay: https://arxiv.org/pdf/1711.05101v3.pdf'''\n",
    "            eps = 1e-8\n",
    "            beta1, beta2 = 0.9, 0.999\n",
    "            gamma_init = 1e-5\n",
    "            decay_rate = 0.8\n",
    "            gamma = gamma_init * decay_rate ** int(epoch_num / 5) \n",
    "\n",
    "            self.m[f'W{idx}'] = beta1 * self.m[f'W{idx}'] + (1 - beta1) * self.grads[f'dW{idx}']\n",
    "            self.v[f'W{idx}'] = beta2 * self.v[f'W{idx}'] + (1 - beta2) * self.grads[f'dW{idx}'] ** 2 \n",
    "\n",
    "            self.m[f'b{idx}'] = beta1 * self.m[f'b{idx}'] + (1 - beta1) * self.grads[f'db{idx}']\n",
    "            self.v[f'b{idx}'] = beta2 * self.v[f'b{idx}'] + (1 - beta2) * self.grads[f'db{idx}'] ** 2 \n",
    "\n",
    "            mt_w  = self.m[f'W{idx}'] / (1 - beta1 ** steps)\n",
    "            vt_w = self.v[f'W{idx}'] / (1 - beta2 ** steps)\n",
    "\n",
    "            mt_b  = self.m[f'b{idx}'] / (1 - beta1 ** steps)\n",
    "            vt_b = self.v[f'b{idx}'] / (1 - beta2 ** steps)\n",
    "\n",
    "            w_update = - lr * mt_w / ((np.sqrt(vt_w) + eps) + gamma * self.layers[idx].W) \n",
    "            b_update = - lr * mt_b / ((np.sqrt(vt_b) + eps) + gamma * self.layers[idx].b)\n",
    "\n",
    "            assert w_update.shape == self.layers[idx].W.shape\n",
    "            assert b_update.shape == self.layers[idx].b.shape\n",
    "            self.layers[idx].W += w_update\n",
    "            self.layers[idx].b += b_update\n",
    "\n",
    "        if self.optimizer == 'DemonAdam':\n",
    "            '''Decaying Momentum in Adam: https://arxiv.org/pdf/1910.04952v3.pdf'''\n",
    "            eps = 1e-8\n",
    "            beta1_init, beta2 = 0.9, 0.999\n",
    "            p_t = 1 - epoch_num / self.epochs\n",
    "            beta1 = beta1_init * (p_t / (1 - beta1_init + beta1_init * p_t))\n",
    "            \n",
    "            self.m[f'W{idx}'] = beta1 * self.m[f'W{idx}'] + (1 - beta1) * self.grads[f'dW{idx}']\n",
    "            self.v[f'W{idx}'] = beta2 * self.v[f'W{idx}'] + (1 - beta2) * self.grads[f'dW{idx}'] ** 2 \n",
    "\n",
    "            self.m[f'b{idx}'] = beta1 * self.m[f'b{idx}'] + (1 - beta1) * self.grads[f'db{idx}']\n",
    "            self.v[f'b{idx}'] = beta2 * self.v[f'b{idx}'] + (1 - beta2) * self.grads[f'db{idx}'] ** 2 \n",
    "\n",
    "            mt_w  = self.m[f'W{idx}'] / (1 - beta1 ** steps)\n",
    "            vt_w = self.v[f'W{idx}'] / (1 - beta2 ** steps)\n",
    "\n",
    "            mt_b  = self.m[f'b{idx}'] / (1 - beta1 ** steps)\n",
    "            vt_b = self.v[f'b{idx}'] / (1 - beta2 ** steps)\n",
    "\n",
    "            w_update = - lr * mt_w / (np.sqrt(vt_w) + eps)\n",
    "            b_update = - lr * mt_b / (np.sqrt(vt_b) + eps)\n",
    "\n",
    "            assert w_update.shape == self.layers[idx].W.shape\n",
    "            assert b_update.shape == self.layers[idx].b.shape\n",
    "            self.layers[idx].W += w_update\n",
    "            self.layers[idx].b += b_update\n",
    "            \n",
    "        if self.optimizer == 'QHAdam':\n",
    "            '''Replacing momentum estimators in Adam with quasi-hyperbolic terms:\n",
    "            https://arxiv.org/pdf/1810.06801.pdf'''\n",
    "            eps = 1e-8\n",
    "            beta1, beta2 = 0.9, 0.999\n",
    "            v1, v2 = 0.7, 1\n",
    "\n",
    "            self.m[f'W{idx}'] = beta1 * self.m[f'W{idx}'] + (1 - beta1) * self.grads[f'dW{idx}']\n",
    "            self.v[f'W{idx}'] = beta2 * self.v[f'W{idx}'] + (1 - beta2) * self.grads[f'dW{idx}'] ** 2 \n",
    "\n",
    "            self.m[f'b{idx}'] = beta1 * self.m[f'b{idx}'] + (1 - beta1) * self.grads[f'db{idx}']\n",
    "            self.v[f'b{idx}'] = beta2 * self.v[f'b{idx}'] + (1 - beta2) * self.grads[f'db{idx}'] ** 2 \n",
    "\n",
    "            mt_w  = self.m[f'W{idx}'] / (1 - beta1 ** steps)\n",
    "            vt_w = self.v[f'W{idx}'] / (1 - beta2 ** steps)\n",
    "\n",
    "            mt_b  = self.m[f'b{idx}'] / (1 - beta1 ** steps)\n",
    "            vt_b = self.v[f'b{idx}'] / (1 - beta2 ** steps)\n",
    "\n",
    "            w_update = - lr * ((1-v1) * self.grads[f'dW{idx}'] + v1 * mt_w) / (np.sqrt((1-v2)*self.grads[f'dW{idx}']**2 + v2 * vt_w) + eps)\n",
    "            b_update = - lr * ((1-v1) * self.grads[f'db{idx}'] + v1 * mt_b) / (np.sqrt((1-v2)*self.grads[f'db{idx}']**2 + v2 * vt_b) + eps)\n",
    "\n",
    "            assert w_update.shape == self.layers[idx].W.shape\n",
    "            assert b_update.shape == self.layers[idx].b.shape\n",
    "            self.layers[idx].W += w_update\n",
    "            self.layers[idx].b += b_update\n",
    "        \n",
    "        if self.optimizer == 'DemonAdamW':\n",
    "            '''Combination of Decaying momentum and weight decoupling as in AdamW'''\n",
    "            eps = 1e-8\n",
    "            # Demon Part\n",
    "            beta1_init, beta2 = 0.9, 0.999\n",
    "            p_t = 1 - epoch_num / self.epochs\n",
    "            beta1 = beta1_init * (p_t / (1 - beta1_init + beta1_init * p_t))\n",
    "            \n",
    "            # Weight decoupling part\n",
    "            gamma_init = 1e-5\n",
    "            decay_rate = 0.8\n",
    "            gamma = gamma_init * decay_rate ** int(epoch_num / 5) \n",
    "            \n",
    "            self.m[f'W{idx}'] = beta1 * self.m[f'W{idx}'] + (1 - beta1) * self.grads[f'dW{idx}']\n",
    "            self.v[f'W{idx}'] = beta2 * self.v[f'W{idx}'] + (1 - beta2) * self.grads[f'dW{idx}'] ** 2 \n",
    "\n",
    "            self.m[f'b{idx}'] = beta1 * self.m[f'b{idx}'] + (1 - beta1) * self.grads[f'db{idx}']\n",
    "            self.v[f'b{idx}'] = beta2 * self.v[f'b{idx}'] + (1 - beta2) * self.grads[f'db{idx}'] ** 2 \n",
    "\n",
    "            mt_w  = self.m[f'W{idx}'] / (1 - beta1 ** steps)\n",
    "            vt_w = self.v[f'W{idx}'] / (1 - beta2 ** steps)\n",
    "\n",
    "            mt_b  = self.m[f'b{idx}'] / (1 - beta1 ** steps)\n",
    "            vt_b = self.v[f'b{idx}'] / (1 - beta2 ** steps)\n",
    "\n",
    "            w_update = - lr * mt_w / ((np.sqrt(vt_w) + eps) + gamma * self.layers[idx].W) \n",
    "            b_update = - lr * mt_b / ((np.sqrt(vt_b) + eps) + gamma * self.layers[idx].b)\n",
    "            assert w_update.shape == self.layers[idx].W.shape\n",
    "            assert b_update.shape == self.layers[idx].b.shape\n",
    "            self.layers[idx].W += w_update\n",
    "            self.layers[idx].b += b_update\n",
    "            \n",
    "        if self.optimizer == 'DemonSGDM':\n",
    "            '''Decaying momentum applied to SGD https://arxiv.org/pdf/1910.04952v3.pdf'''\n",
    "            beta_init = 0.9\n",
    "            p_t = 1 - epoch_num / self.epochs\n",
    "            beta = beta_init * p_t / ((1 - beta_init) + beta_init * p_t)\n",
    "            \n",
    "            self.v[f'W{idx}'] = self.v[f'W{idx}'] * beta - lr * self.grads[f'dW{idx}']\n",
    "            self.v[f'b{idx}'] = self.v[f'b{idx}'] * beta - lr * self.grads[f'db{idx}']\n",
    "            self.layers[idx].W += self.v[f'W{idx}']\n",
    "            self.layers[idx].b += self.v[f'b{idx}']\n",
    "        \n",
    "        if self.optimizer == 'DemonNesterov':\n",
    "            '''Decaying momentum applied to Nesterov momentum '''\n",
    "            beta_init = 0.9\n",
    "            p_t = 1 - epoch_num / self.epochs\n",
    "            beta = beta_init * p_t / ((1 - beta_init) + beta_init * p_t)\n",
    "            \n",
    "            vW_prev =  np.array(self.v[f'W{idx}'], copy=True)\n",
    "            vb_prev = np.array(self.v[f'b{idx}'], copy=True)\n",
    "\n",
    "            self.v[f'W{idx}'] = self.v[f'W{idx}'] * beta - lr * self.grads[f'dW{idx}']\n",
    "            self.v[f'b{idx}'] = self.v[f'b{idx}'] * beta - lr * self.grads[f'db{idx}']\n",
    "\n",
    "            w_update = -beta * vW_prev + (1 + beta) * self.v[f'W{idx}']\n",
    "            b_update = -beta * vb_prev + (1 + beta) * self.v[f'b{idx}']\n",
    "\n",
    "            assert w_update.shape == self.layers[idx].W.shape\n",
    "            assert b_update.shape == self.layers[idx].b.shape\n",
    "\n",
    "            self.layers[idx].W += w_update\n",
    "            self.layers[idx].b += b_update\n",
    "        \n",
    "            \n",
    "    @staticmethod\n",
    "    def compute_loss(Y, Y_hat):\n",
    "        m = Y.shape[0]\n",
    "        L = -1./m * np.sum(Y * np.log(Y_hat))\n",
    "        return L\n",
    "\n",
    "    @staticmethod\n",
    "    def mse(Y, Y_hat):\n",
    "        m = Y.shape[0]\n",
    "        return np.mean((Y- Y_hat)**2)\n",
    "    \n",
    "    @staticmethod\n",
    "    def create_batches(x, y, batch_size):\n",
    "        m = x.shape[0]\n",
    "        num_batches = m / batch_size\n",
    "        batches = []\n",
    "        for i in range(int(num_batches+1)):\n",
    "            batch_x = x[i*batch_size:(i+1)*batch_size]\n",
    "            batch_y = y[i*batch_size:(i+1)*batch_size]\n",
    "            batches.append((batch_x, batch_y))\n",
    "        \n",
    "        if m % batch_size == 0:\n",
    "            batches.pop(-1)\n",
    "\n",
    "        return batches\n",
    "    \n",
    "    def __repr__(self):\n",
    "        return str(self.layers)"
   ]
  },
  {
   "cell_type": "code",
   "execution_count": 158,
   "metadata": {},
   "outputs": [],
   "source": [
    "epochs = 20 \n",
    "lr_start = 1e-3\n",
    "batch_size = 128\n",
    "lr_decay = False"
   ]
  },
  {
   "cell_type": "code",
   "execution_count": 161,
   "metadata": {},
   "outputs": [
    {
     "name": "stdout",
     "output_type": "stream",
     "text": [
      "Epoch 1\n",
      "Loss:2.1503119682928302 Train Acc: 43.27166666666667 Val Acc: 43.63\n",
      "Epoch 2\n",
      "Loss:1.789025401127598 Train Acc: 60.99166666666667 Val Acc: 61.86000000000001\n",
      "Epoch 3\n",
      "Loss:1.4460175021900223 Train Acc: 69.90666666666667 Val Acc: 70.96000000000001\n",
      "Epoch 4\n",
      "Loss:1.1681158313491378 Train Acc: 75.38833333333334 Val Acc: 76.83\n",
      "Epoch 5\n",
      "Loss:0.9724806898954285 Train Acc: 78.97333333333333 Val Acc: 80.05\n",
      "Epoch 6\n",
      "Loss:0.8376267271694037 Train Acc: 81.15833333333333 Val Acc: 82.41000000000001\n",
      "Epoch 7\n",
      "Loss:0.7421259956904581 Train Acc: 82.87166666666667 Val Acc: 84.07\n",
      "Epoch 8\n",
      "Loss:0.6719898616919099 Train Acc: 84.08 Val Acc: 85.34\n",
      "Epoch 9\n",
      "Loss:0.6186536204666072 Train Acc: 85.055 Val Acc: 86.32\n",
      "Epoch 10\n",
      "Loss:0.5768878117558198 Train Acc: 85.79166666666667 Val Acc: 86.89\n",
      "Epoch 11\n",
      "Loss:0.5434002606364619 Train Acc: 86.40833333333333 Val Acc: 87.41\n",
      "Epoch 12\n",
      "Loss:0.5160244313197698 Train Acc: 86.87 Val Acc: 87.92999999999999\n",
      "Epoch 13\n",
      "Loss:0.4932644358199433 Train Acc: 87.29666666666667 Val Acc: 88.37\n",
      "Epoch 14\n",
      "Loss:0.4740456128150996 Train Acc: 87.63 Val Acc: 88.69\n",
      "Epoch 15\n",
      "Loss:0.4576100884986992 Train Acc: 87.91 Val Acc: 89.03\n",
      "Epoch 16\n",
      "Loss:0.4434002522618662 Train Acc: 88.205 Val Acc: 89.21\n",
      "Epoch 17\n",
      "Loss:0.4309912004325757 Train Acc: 88.42 Val Acc: 89.38000000000001\n",
      "Epoch 18\n",
      "Loss:0.4200562273562605 Train Acc: 88.62833333333333 Val Acc: 89.53999999999999\n",
      "Epoch 19\n",
      "Loss:0.4103384811479114 Train Acc: 88.84 Val Acc: 89.73\n",
      "Epoch 20\n",
      "Loss:0.40162777020010226 Train Acc: 89.04166666666666 Val Acc: 89.92\n"
     ]
    }
   ],
   "source": [
    "model = Model()\n",
    "model.add(Layer(128, activation='relu'))\n",
    "model.add(Layer(64, activation='relu'))\n",
    "model.add(Layer(10, activation='softmax'))\n",
    "model.set_config(epochs=epochs, alpha=lr_start, optimizer=None, lr_decay=lr_decay)\n",
    "model.fit(x_train, y_train, x_test, y_test, batch_size=batch_size)\n",
    "vanilla = model.history"
   ]
  },
  {
   "cell_type": "code",
   "execution_count": 162,
   "metadata": {},
   "outputs": [
    {
     "name": "stdout",
     "output_type": "stream",
     "text": [
      "Epoch 1\n",
      "Loss:1.971548086743485 Train Acc: 60.940000000000005 Val Acc: 61.78\n",
      "Epoch 2\n",
      "Loss:1.250420248838212 Train Acc: 77.28833333333334 Val Acc: 78.38000000000001\n",
      "Epoch 3\n",
      "Loss:0.7758959326613197 Train Acc: 84.01666666666667 Val Acc: 85.24000000000001\n",
      "Epoch 4\n",
      "Loss:0.5239670911303634 Train Acc: 87.92999999999999 Val Acc: 88.99000000000001\n",
      "Epoch 5\n",
      "Loss:0.3382509386365137 Train Acc: 92.72666666666667 Val Acc: 93.05\n",
      "Epoch 6\n",
      "Loss:0.2160378233607533 Train Acc: 94.80333333333333 Val Acc: 94.69999999999999\n",
      "Epoch 7\n",
      "Loss:0.16188467669077286 Train Acc: 96.2 Val Acc: 96.0\n",
      "Epoch 8\n",
      "Loss:0.13054313307258283 Train Acc: 96.65333333333334 Val Acc: 96.34\n",
      "Epoch 9\n",
      "Loss:0.1108617285036437 Train Acc: 97.29166666666667 Val Acc: 96.71\n",
      "Epoch 10\n",
      "Loss:0.09447141691313259 Train Acc: 97.615 Val Acc: 96.84\n",
      "Epoch 11\n",
      "Loss:0.07913496700905819 Train Acc: 97.79666666666667 Val Acc: 96.81\n",
      "Epoch 12\n",
      "Loss:0.06897837086191724 Train Acc: 97.925 Val Acc: 96.74000000000001\n",
      "Epoch 13\n",
      "Loss:0.06206052102064375 Train Acc: 97.99833333333333 Val Acc: 96.85000000000001\n",
      "Epoch 14\n",
      "Loss:0.0563329734093599 Train Acc: 98.30499999999999 Val Acc: 96.97\n",
      "Epoch 15\n",
      "Loss:0.051070260278167856 Train Acc: 98.64333333333335 Val Acc: 97.33000000000001\n",
      "Epoch 16\n",
      "Loss:0.04586898762231048 Train Acc: 98.81666666666666 Val Acc: 97.56\n",
      "Epoch 17\n",
      "Loss:0.04112409724026969 Train Acc: 98.965 Val Acc: 97.50999999999999\n",
      "Epoch 18\n",
      "Loss:0.03782737159145678 Train Acc: 99.04166666666666 Val Acc: 97.58\n",
      "Epoch 19\n",
      "Loss:0.03507443108055851 Train Acc: 99.11833333333333 Val Acc: 97.6\n",
      "Epoch 20\n",
      "Loss:0.03321487363372428 Train Acc: 99.07333333333334 Val Acc: 97.65\n"
     ]
    }
   ],
   "source": [
    "model = Model()\n",
    "model.add(Layer(128, activation='relu'))\n",
    "model.add(Layer(64, activation='relu'))\n",
    "model.add(Layer(10, activation='softmax'))\n",
    "model.set_config(epochs=epochs, alpha=lr_start, optimizer='momentum',lr_decay=lr_decay)\n",
    "model.fit(x_train, y_train, x_test, y_test, batch_size=batch_size)\n",
    "momentum = model.history"
   ]
  },
  {
   "cell_type": "code",
   "execution_count": 163,
   "metadata": {},
   "outputs": [
    {
     "name": "stdout",
     "output_type": "stream",
     "text": [
      "Epoch 1\n",
      "Loss:1.1695748081723347 Train Acc: 84.84 Val Acc: 86.00999999999999\n",
      "Epoch 2\n",
      "Loss:0.4815219152400152 Train Acc: 88.53166666666667 Val Acc: 89.5\n",
      "Epoch 3\n",
      "Loss:0.3840708349918986 Train Acc: 89.94166666666666 Val Acc: 90.7\n",
      "Epoch 4\n",
      "Loss:0.3437184550649107 Train Acc: 90.66833333333332 Val Acc: 91.35\n",
      "Epoch 5\n",
      "Loss:0.3193405968850166 Train Acc: 91.23 Val Acc: 91.74\n",
      "Epoch 6\n",
      "Loss:0.301813844596415 Train Acc: 91.62666666666667 Val Acc: 92.09\n",
      "Epoch 7\n",
      "Loss:0.2881100803189039 Train Acc: 91.995 Val Acc: 92.47999999999999\n",
      "Epoch 8\n",
      "Loss:0.27695226100039216 Train Acc: 92.34666666666666 Val Acc: 92.67\n",
      "Epoch 9\n",
      "Loss:0.26758527517191877 Train Acc: 92.61666666666667 Val Acc: 92.9\n",
      "Epoch 10\n",
      "Loss:0.259602957411795 Train Acc: 92.82000000000001 Val Acc: 93.12\n",
      "Epoch 11\n",
      "Loss:0.2527050033766659 Train Acc: 93.01666666666667 Val Acc: 93.34\n",
      "Epoch 12\n",
      "Loss:0.24671018318933519 Train Acc: 93.16499999999999 Val Acc: 93.44\n",
      "Epoch 13\n",
      "Loss:0.24152454420953665 Train Acc: 93.29166666666666 Val Acc: 93.55\n",
      "Epoch 14\n",
      "Loss:0.23704692432939622 Train Acc: 93.39 Val Acc: 93.71000000000001\n",
      "Epoch 15\n",
      "Loss:0.23320396536963994 Train Acc: 93.49833333333333 Val Acc: 93.73\n",
      "Epoch 16\n",
      "Loss:0.2299315898850171 Train Acc: 93.58666666666666 Val Acc: 93.8\n",
      "Epoch 17\n",
      "Loss:0.22717982953920027 Train Acc: 93.65666666666667 Val Acc: 93.87\n",
      "Epoch 18\n",
      "Loss:0.22491532022212288 Train Acc: 93.73166666666667 Val Acc: 93.92\n",
      "Epoch 19\n",
      "Loss:0.22311117172146333 Train Acc: 93.78166666666667 Val Acc: 93.95\n",
      "Epoch 20\n",
      "Loss:0.22175059387475463 Train Acc: 93.80333333333334 Val Acc: 93.97\n"
     ]
    }
   ],
   "source": [
    "model = Model()\n",
    "model.add(Layer(128, activation='relu'))\n",
    "model.add(Layer(64, activation='relu'))\n",
    "model.add(Layer(10, activation='softmax'))\n",
    "model.set_config(epochs=epochs, alpha=lr_start, optimizer='DemonSGDM',lr_decay=lr_decay)\n",
    "model.fit(x_train, y_train, x_test, y_test, batch_size=batch_size)\n",
    "DemonSGDM = model.history"
   ]
  },
  {
   "cell_type": "code",
   "execution_count": 164,
   "metadata": {},
   "outputs": [
    {
     "name": "stdout",
     "output_type": "stream",
     "text": [
      "Epoch 1\n",
      "Loss:1.9704602353734222 Train Acc: 60.96666666666667 Val Acc: 61.809999999999995\n",
      "Epoch 2\n",
      "Loss:1.2492045883557268 Train Acc: 77.275 Val Acc: 78.41\n",
      "Epoch 3\n",
      "Loss:0.7752782565332458 Train Acc: 83.99333333333333 Val Acc: 85.2\n",
      "Epoch 4\n",
      "Loss:0.5235083758006135 Train Acc: 87.92 Val Acc: 88.92\n",
      "Epoch 5\n",
      "Loss:0.3309839506914328 Train Acc: 92.805 Val Acc: 93.25\n",
      "Epoch 6\n",
      "Loss:0.213242561200188 Train Acc: 94.88333333333333 Val Acc: 94.82000000000001\n",
      "Epoch 7\n",
      "Loss:0.15996038924505562 Train Acc: 96.18666666666667 Val Acc: 95.88\n",
      "Epoch 8\n",
      "Loss:0.12805185070117284 Train Acc: 96.89666666666666 Val Acc: 96.41999999999999\n",
      "Epoch 9\n",
      "Loss:0.1072331054825482 Train Acc: 97.37666666666667 Val Acc: 96.69\n",
      "Epoch 10\n",
      "Loss:0.09302741390169603 Train Acc: 97.63333333333334 Val Acc: 96.84\n",
      "Epoch 11\n",
      "Loss:0.08170495425120991 Train Acc: 97.85166666666667 Val Acc: 96.99\n",
      "Epoch 12\n",
      "Loss:0.07074861171046833 Train Acc: 98.08 Val Acc: 97.11\n",
      "Epoch 13\n",
      "Loss:0.06088358675288745 Train Acc: 98.24666666666667 Val Acc: 97.06\n",
      "Epoch 14\n",
      "Loss:0.05360022706590098 Train Acc: 98.37666666666667 Val Acc: 97.05\n",
      "Epoch 15\n",
      "Loss:0.047663183301725226 Train Acc: 98.58166666666666 Val Acc: 97.25\n",
      "Epoch 16\n",
      "Loss:0.04280971332381001 Train Acc: 98.75833333333334 Val Acc: 97.39\n",
      "Epoch 17\n",
      "Loss:0.03891703171194897 Train Acc: 98.86833333333334 Val Acc: 97.50999999999999\n",
      "Epoch 18\n",
      "Loss:0.035632458849953565 Train Acc: 99.00833333333333 Val Acc: 97.54\n",
      "Epoch 19\n",
      "Loss:0.03289496956360477 Train Acc: 99.16666666666667 Val Acc: 97.7\n",
      "Epoch 20\n",
      "Loss:0.03069104717512433 Train Acc: 99.225 Val Acc: 97.72999999999999\n"
     ]
    }
   ],
   "source": [
    "model = Model()\n",
    "model.add(Layer(128, activation='relu'))\n",
    "model.add(Layer(64, activation='relu'))\n",
    "model.add(Layer(10, activation='softmax'))\n",
    "model.set_config(epochs=epochs, alpha=lr_start, optimizer='nesterov',lr_decay=lr_decay)\n",
    "model.fit(x_train, y_train, x_test, y_test, batch_size=batch_size)\n",
    "nesterov = model.history"
   ]
  },
  {
   "cell_type": "code",
   "execution_count": 165,
   "metadata": {},
   "outputs": [
    {
     "name": "stdout",
     "output_type": "stream",
     "text": [
      "Epoch 1\n",
      "Loss:1.1642016084499796 Train Acc: 84.85333333333334 Val Acc: 86.08\n",
      "Epoch 2\n",
      "Loss:0.4806458785894338 Train Acc: 88.54833333333333 Val Acc: 89.52\n",
      "Epoch 3\n",
      "Loss:0.38362110879260547 Train Acc: 89.93333333333334 Val Acc: 90.74\n",
      "Epoch 4\n",
      "Loss:0.3433857232655801 Train Acc: 90.67666666666668 Val Acc: 91.32000000000001\n",
      "Epoch 5\n",
      "Loss:0.31904082564565445 Train Acc: 91.21666666666667 Val Acc: 91.74\n",
      "Epoch 6\n",
      "Loss:0.3015359503814585 Train Acc: 91.625 Val Acc: 92.06\n",
      "Epoch 7\n",
      "Loss:0.28785468308708484 Train Acc: 91.99000000000001 Val Acc: 92.43\n",
      "Epoch 8\n",
      "Loss:0.27670844594355565 Train Acc: 92.33 Val Acc: 92.7\n",
      "Epoch 9\n",
      "Loss:0.26735741393562656 Train Acc: 92.62166666666667 Val Acc: 92.94\n",
      "Epoch 10\n",
      "Loss:0.2593869526325768 Train Acc: 92.83333333333333 Val Acc: 93.11\n",
      "Epoch 11\n",
      "Loss:0.2525022200321837 Train Acc: 93.00666666666667 Val Acc: 93.36\n",
      "Epoch 12\n",
      "Loss:0.24652098879491402 Train Acc: 93.175 Val Acc: 93.41000000000001\n",
      "Epoch 13\n",
      "Loss:0.24135376910101974 Train Acc: 93.28999999999999 Val Acc: 93.54\n",
      "Epoch 14\n",
      "Loss:0.23688461790934098 Train Acc: 93.4 Val Acc: 93.69\n",
      "Epoch 15\n",
      "Loss:0.233042576178083 Train Acc: 93.49499999999999 Val Acc: 93.75\n",
      "Epoch 16\n",
      "Loss:0.2297726493963629 Train Acc: 93.58833333333332 Val Acc: 93.81\n",
      "Epoch 17\n",
      "Loss:0.22702523953882325 Train Acc: 93.65333333333334 Val Acc: 93.87\n",
      "Epoch 18\n",
      "Loss:0.22477036248217477 Train Acc: 93.73 Val Acc: 93.93\n",
      "Epoch 19\n",
      "Loss:0.22298424103441822 Train Acc: 93.77499999999999 Val Acc: 93.96\n",
      "Epoch 20\n",
      "Loss:0.22165722817133504 Train Acc: 93.79333333333332 Val Acc: 93.99\n"
     ]
    }
   ],
   "source": [
    "model = Model()\n",
    "model.add(Layer(128, activation='relu'))\n",
    "model.add(Layer(64, activation='relu'))\n",
    "model.add(Layer(10, activation='softmax'))\n",
    "model.set_config(epochs=epochs, alpha=lr_start, optimizer='DemonNesterov',lr_decay=lr_decay)\n",
    "model.fit(x_train, y_train, x_test, y_test, batch_size=batch_size)\n",
    "DemonNesterov = model.history"
   ]
  },
  {
   "cell_type": "code",
   "execution_count": 166,
   "metadata": {},
   "outputs": [
    {
     "name": "stdout",
     "output_type": "stream",
     "text": [
      "Epoch 1\n",
      "Loss:0.7171549526428017 Train Acc: 88.02333333333333 Val Acc: 89.16\n",
      "Epoch 2\n",
      "Loss:0.4096879870265197 Train Acc: 89.91833333333334 Val Acc: 90.55\n",
      "Epoch 3\n",
      "Loss:0.35406859766641036 Train Acc: 90.79333333333334 Val Acc: 91.32000000000001\n",
      "Epoch 4\n",
      "Loss:0.32509927665763605 Train Acc: 91.33666666666667 Val Acc: 91.75\n",
      "Epoch 5\n",
      "Loss:0.3060792596133649 Train Acc: 91.77499999999999 Val Acc: 92.08\n",
      "Epoch 6\n",
      "Loss:0.2920151079142119 Train Acc: 92.07833333333333 Val Acc: 92.31\n",
      "Epoch 7\n",
      "Loss:0.28087703721807444 Train Acc: 92.33166666666666 Val Acc: 92.54\n",
      "Epoch 8\n",
      "Loss:0.2716394642224041 Train Acc: 92.56833333333333 Val Acc: 92.75\n",
      "Epoch 9\n",
      "Loss:0.26368003793973244 Train Acc: 92.77166666666666 Val Acc: 92.89\n",
      "Epoch 10\n",
      "Loss:0.256737689077106 Train Acc: 92.94333333333333 Val Acc: 93.07\n",
      "Epoch 11\n",
      "Loss:0.25056972265669597 Train Acc: 93.09333333333333 Val Acc: 93.28\n",
      "Epoch 12\n",
      "Loss:0.245026033828067 Train Acc: 93.24 Val Acc: 93.39\n",
      "Epoch 13\n",
      "Loss:0.2399862082601527 Train Acc: 93.35666666666667 Val Acc: 93.60000000000001\n",
      "Epoch 14\n",
      "Loss:0.23537796690993282 Train Acc: 93.49166666666666 Val Acc: 93.69\n",
      "Epoch 15\n",
      "Loss:0.23112930852829447 Train Acc: 93.585 Val Acc: 93.81\n",
      "Epoch 16\n",
      "Loss:0.22720130772876618 Train Acc: 93.685 Val Acc: 93.88\n",
      "Epoch 17\n",
      "Loss:0.22354483072749512 Train Acc: 93.78166666666667 Val Acc: 94.02000000000001\n",
      "Epoch 18\n",
      "Loss:0.22012570592528172 Train Acc: 93.88666666666666 Val Acc: 94.07\n",
      "Epoch 19\n",
      "Loss:0.21692272145916144 Train Acc: 93.965 Val Acc: 94.1\n",
      "Epoch 20\n",
      "Loss:0.21390742771829335 Train Acc: 94.06666666666666 Val Acc: 94.19999999999999\n"
     ]
    }
   ],
   "source": [
    "model = Model()\n",
    "model.add(Layer(128, activation='relu'))\n",
    "model.add(Layer(64, activation='relu'))\n",
    "model.add(Layer(10, activation='softmax'))\n",
    "model.set_config(epochs=epochs, alpha=lr_start, optimizer='adagrad',lr_decay=lr_decay)\n",
    "model.fit(x_train, y_train, x_test, y_test, batch_size=batch_size)\n",
    "adagrad = model.history"
   ]
  },
  {
   "cell_type": "code",
   "execution_count": 167,
   "metadata": {},
   "outputs": [
    {
     "name": "stdout",
     "output_type": "stream",
     "text": [
      "Epoch 1\n",
      "Loss:0.5216086513178354 Train Acc: 91.545 Val Acc: 92.02\n",
      "Epoch 2\n",
      "Loss:0.24868579997920504 Train Acc: 93.73666666666666 Val Acc: 93.67\n",
      "Epoch 3\n",
      "Loss:0.19593791375004146 Train Acc: 94.94666666666667 Val Acc: 94.87\n",
      "Epoch 4\n",
      "Loss:0.163083112791142 Train Acc: 95.74000000000001 Val Acc: 95.47\n",
      "Epoch 5\n",
      "Loss:0.14034661366835155 Train Acc: 96.31666666666666 Val Acc: 95.94\n",
      "Epoch 6\n",
      "Loss:0.12333075344112854 Train Acc: 96.77333333333334 Val Acc: 96.28\n",
      "Epoch 7\n",
      "Loss:0.1102290358722389 Train Acc: 97.14833333333334 Val Acc: 96.61\n",
      "Epoch 8\n",
      "Loss:0.09958047746801861 Train Acc: 97.43666666666667 Val Acc: 96.78\n",
      "Epoch 9\n",
      "Loss:0.09069253088535276 Train Acc: 97.66166666666666 Val Acc: 96.99\n",
      "Epoch 10\n",
      "Loss:0.08318852952109285 Train Acc: 97.82333333333332 Val Acc: 97.09\n",
      "Epoch 11\n",
      "Loss:0.07670058435172007 Train Acc: 97.95 Val Acc: 97.22\n",
      "Epoch 12\n",
      "Loss:0.07106781612803836 Train Acc: 98.125 Val Acc: 97.26\n",
      "Epoch 13\n",
      "Loss:0.06610386822121951 Train Acc: 98.24333333333334 Val Acc: 97.31\n",
      "Epoch 14\n",
      "Loss:0.06172825657555605 Train Acc: 98.38166666666666 Val Acc: 97.42\n",
      "Epoch 15\n",
      "Loss:0.05779134300235363 Train Acc: 98.44666666666667 Val Acc: 97.45\n",
      "Epoch 16\n",
      "Loss:0.05419936955740931 Train Acc: 98.54833333333333 Val Acc: 97.53\n",
      "Epoch 17\n",
      "Loss:0.050976904100913274 Train Acc: 98.65166666666667 Val Acc: 97.59\n",
      "Epoch 18\n",
      "Loss:0.04801848879892209 Train Acc: 98.73833333333333 Val Acc: 97.61\n",
      "Epoch 19\n",
      "Loss:0.045267722093196454 Train Acc: 98.81166666666667 Val Acc: 97.61999999999999\n",
      "Epoch 20\n",
      "Loss:0.04272320723746014 Train Acc: 98.88 Val Acc: 97.61\n"
     ]
    }
   ],
   "source": [
    "model = Model()\n",
    "model.add(Layer(128, activation='relu'))\n",
    "model.add(Layer(64, activation='relu'))\n",
    "model.add(Layer(10, activation='softmax'))\n",
    "model.set_config(epochs=epochs, alpha=lr_start, optimizer='adadelta',lr_decay=lr_decay)\n",
    "model.fit(x_train, y_train, x_test, y_test, batch_size=batch_size)\n",
    "adadelta = model.history"
   ]
  },
  {
   "cell_type": "code",
   "execution_count": 168,
   "metadata": {},
   "outputs": [
    {
     "name": "stdout",
     "output_type": "stream",
     "text": [
      "Epoch 1\n",
      "Loss:0.3112406564104391 Train Acc: 93.82666666666667 Val Acc: 93.83\n",
      "Epoch 2\n",
      "Loss:0.1365898929439944 Train Acc: 95.74166666666667 Val Acc: 95.53\n",
      "Epoch 3\n",
      "Loss:0.09523743957556063 Train Acc: 96.6 Val Acc: 96.0\n",
      "Epoch 4\n",
      "Loss:0.07248649986327013 Train Acc: 97.29333333333334 Val Acc: 96.47\n",
      "Epoch 5\n",
      "Loss:0.05731829096690027 Train Acc: 97.83833333333334 Val Acc: 96.89\n",
      "Epoch 6\n",
      "Loss:0.04605225146866969 Train Acc: 98.22166666666666 Val Acc: 97.19\n",
      "Epoch 7\n",
      "Loss:0.03685436574078377 Train Acc: 98.59333333333333 Val Acc: 97.39999999999999\n",
      "Epoch 8\n",
      "Loss:0.029978551463028705 Train Acc: 98.66666666666667 Val Acc: 97.35000000000001\n",
      "Epoch 9\n",
      "Loss:0.024523964547404263 Train Acc: 98.80333333333333 Val Acc: 97.42\n",
      "Epoch 10\n",
      "Loss:0.020361098971166898 Train Acc: 99.03666666666666 Val Acc: 97.54\n",
      "Epoch 11\n",
      "Loss:0.017155416511483806 Train Acc: 99.005 Val Acc: 97.39\n",
      "Epoch 12\n",
      "Loss:0.013729861192076259 Train Acc: 99.12166666666667 Val Acc: 97.35000000000001\n",
      "Epoch 13\n",
      "Loss:0.012077027642831431 Train Acc: 99.20666666666666 Val Acc: 97.43\n",
      "Epoch 14\n",
      "Loss:0.010514242978039025 Train Acc: 99.14833333333334 Val Acc: 97.38\n",
      "Epoch 15\n",
      "Loss:0.008812200253792847 Train Acc: 99.16666666666667 Val Acc: 97.38\n",
      "Epoch 16\n",
      "Loss:0.007967452190204333 Train Acc: 99.42333333333333 Val Acc: 97.32\n",
      "Epoch 17\n",
      "Loss:0.006831711771466555 Train Acc: 99.505 Val Acc: 97.61\n",
      "Epoch 18\n",
      "Loss:0.0062782327843909636 Train Acc: 99.565 Val Acc: 97.58\n",
      "Epoch 19\n",
      "Loss:0.005250579385649747 Train Acc: 99.665 Val Acc: 97.67\n",
      "Epoch 20\n",
      "Loss:0.004453258315318348 Train Acc: 99.66833333333334 Val Acc: 97.74000000000001\n"
     ]
    }
   ],
   "source": [
    "model = Model()\n",
    "model.add(Layer(128, activation='relu'))\n",
    "model.add(Layer(64, activation='relu'))\n",
    "model.add(Layer(10, activation='softmax'))\n",
    "model.set_config(epochs=epochs, alpha=lr_start, optimizer='RMSprop', lr_decay=lr_decay)\n",
    "model.fit(x_train, y_train, x_test, y_test, batch_size=batch_size)\n",
    "RMSprop = model.history"
   ]
  },
  {
   "cell_type": "code",
   "execution_count": 169,
   "metadata": {},
   "outputs": [
    {
     "name": "stdout",
     "output_type": "stream",
     "text": [
      "Epoch 1\n",
      "Loss:0.34624059333092777 Train Acc: 94.435 Val Acc: 94.15\n",
      "Epoch 2\n",
      "Loss:0.14825623941078148 Train Acc: 96.23833333333334 Val Acc: 95.71\n",
      "Epoch 3\n",
      "Loss:0.11145417180169578 Train Acc: 97.12833333333334 Val Acc: 96.46000000000001\n",
      "Epoch 4\n",
      "Loss:0.08935200043307788 Train Acc: 97.67166666666667 Val Acc: 96.72\n",
      "Epoch 5\n",
      "Loss:0.07398113188749977 Train Acc: 98.00666666666666 Val Acc: 96.91\n",
      "Epoch 6\n",
      "Loss:0.06255578133234581 Train Acc: 98.21833333333333 Val Acc: 97.06\n",
      "Epoch 7\n",
      "Loss:0.05367491966493914 Train Acc: 98.42 Val Acc: 97.18\n",
      "Epoch 8\n",
      "Loss:0.04643268179420983 Train Acc: 98.58666666666667 Val Acc: 97.24000000000001\n",
      "Epoch 9\n",
      "Loss:0.0401502688351156 Train Acc: 98.67 Val Acc: 97.26\n",
      "Epoch 10\n",
      "Loss:0.03492799950511688 Train Acc: 98.7 Val Acc: 97.27\n",
      "Epoch 11\n",
      "Loss:0.030460472903013912 Train Acc: 98.89666666666666 Val Acc: 97.35000000000001\n",
      "Epoch 12\n",
      "Loss:0.026486564063315152 Train Acc: 98.96000000000001 Val Acc: 97.32\n",
      "Epoch 13\n",
      "Loss:0.023012764999635223 Train Acc: 99.21833333333333 Val Acc: 97.46000000000001\n",
      "Epoch 14\n",
      "Loss:0.019850895986943798 Train Acc: 99.27333333333334 Val Acc: 97.52\n",
      "Epoch 15\n",
      "Loss:0.017092940164303613 Train Acc: 99.345 Val Acc: 97.55\n",
      "Epoch 16\n",
      "Loss:0.014669258212178982 Train Acc: 99.36333333333334 Val Acc: 97.57000000000001\n",
      "Epoch 17\n",
      "Loss:0.01263727042925123 Train Acc: 99.38166666666667 Val Acc: 97.63\n",
      "Epoch 18\n",
      "Loss:0.010859550462818085 Train Acc: 99.43333333333332 Val Acc: 97.59\n",
      "Epoch 19\n",
      "Loss:0.009267488182499615 Train Acc: 99.47166666666666 Val Acc: 97.67\n",
      "Epoch 20\n",
      "Loss:0.00798217519584946 Train Acc: 99.55666666666667 Val Acc: 97.65\n"
     ]
    }
   ],
   "source": [
    "model = Model()\n",
    "model.add(Layer(128, activation='relu'))\n",
    "model.add(Layer(64, activation='relu'))\n",
    "model.add(Layer(10, activation='softmax'))\n",
    "model.set_config(epochs=epochs, alpha=lr_start, optimizer='Adam',lr_decay=lr_decay)\n",
    "model.fit(x_train, y_train, x_test, y_test, batch_size=batch_size)\n",
    "Adam = model.history"
   ]
  },
  {
   "cell_type": "code",
   "execution_count": 170,
   "metadata": {},
   "outputs": [
    {
     "name": "stdout",
     "output_type": "stream",
     "text": [
      "Epoch 1\n",
      "Loss:1.3882072711887488 Train Acc: 86.12666666666667 Val Acc: 87.3\n",
      "Epoch 2\n",
      "Loss:0.4592084660934654 Train Acc: 89.67666666666668 Val Acc: 90.56\n",
      "Epoch 3\n",
      "Loss:0.3531753695219789 Train Acc: 91.08333333333334 Val Acc: 91.59\n",
      "Epoch 4\n",
      "Loss:0.30761378067950385 Train Acc: 91.97666666666666 Val Acc: 92.35\n",
      "Epoch 5\n",
      "Loss:0.2787598133094216 Train Acc: 92.61 Val Acc: 92.99\n",
      "Epoch 6\n",
      "Loss:0.2571553470956499 Train Acc: 93.14333333333333 Val Acc: 93.47999999999999\n",
      "Epoch 7\n",
      "Loss:0.23938363252245923 Train Acc: 93.60333333333334 Val Acc: 93.81\n",
      "Epoch 8\n",
      "Loss:0.22425914754146434 Train Acc: 94.01833333333333 Val Acc: 94.04\n",
      "Epoch 9\n",
      "Loss:0.2112139834034975 Train Acc: 94.34166666666667 Val Acc: 94.36\n",
      "Epoch 10\n",
      "Loss:0.19980202596668398 Train Acc: 94.64666666666666 Val Acc: 94.62\n",
      "Epoch 11\n",
      "Loss:0.1897602969881926 Train Acc: 94.89166666666667 Val Acc: 94.87\n",
      "Epoch 12\n",
      "Loss:0.18085804369809824 Train Acc: 95.12666666666667 Val Acc: 95.07\n",
      "Epoch 13\n",
      "Loss:0.17287640880367106 Train Acc: 95.34666666666666 Val Acc: 95.21\n",
      "Epoch 14\n",
      "Loss:0.16567168984416727 Train Acc: 95.53666666666668 Val Acc: 95.36\n",
      "Epoch 15\n",
      "Loss:0.15910550063302167 Train Acc: 95.73333333333333 Val Acc: 95.55\n",
      "Epoch 16\n",
      "Loss:0.15308534241829896 Train Acc: 95.895 Val Acc: 95.69\n",
      "Epoch 17\n",
      "Loss:0.14755990532546973 Train Acc: 96.035 Val Acc: 95.81\n",
      "Epoch 18\n",
      "Loss:0.14244969603749383 Train Acc: 96.16833333333334 Val Acc: 95.86\n",
      "Epoch 19\n",
      "Loss:0.13767040007548587 Train Acc: 96.285 Val Acc: 95.96000000000001\n",
      "Epoch 20\n",
      "Loss:0.13322062984899766 Train Acc: 96.36333333333333 Val Acc: 95.98\n"
     ]
    }
   ],
   "source": [
    "model = Model()\n",
    "model.add(Layer(128, activation='relu'))\n",
    "model.add(Layer(64, activation='relu'))\n",
    "model.add(Layer(10, activation='softmax'))\n",
    "model.set_config(epochs=epochs, alpha=lr_start, optimizer='Adamax',lr_decay=lr_decay)\n",
    "model.fit(x_train, y_train, x_test, y_test, batch_size=batch_size)\n",
    "Adamax = model.history"
   ]
  },
  {
   "cell_type": "code",
   "execution_count": 171,
   "metadata": {},
   "outputs": [
    {
     "name": "stdout",
     "output_type": "stream",
     "text": [
      "Epoch 1\n",
      "Loss:0.34693777097493633 Train Acc: 94.52000000000001 Val Acc: 94.31\n",
      "Epoch 2\n",
      "Loss:0.1488490048492696 Train Acc: 96.09333333333333 Val Acc: 95.62\n",
      "Epoch 3\n",
      "Loss:0.11159587537012475 Train Acc: 97.095 Val Acc: 96.44\n",
      "Epoch 4\n",
      "Loss:0.0891733326214939 Train Acc: 97.72 Val Acc: 96.81\n",
      "Epoch 5\n",
      "Loss:0.07358275141546555 Train Acc: 98.03 Val Acc: 97.0\n",
      "Epoch 6\n",
      "Loss:0.0620658785384294 Train Acc: 98.25500000000001 Val Acc: 97.07000000000001\n",
      "Epoch 7\n",
      "Loss:0.05303920198505946 Train Acc: 98.45166666666667 Val Acc: 97.17\n",
      "Epoch 8\n",
      "Loss:0.04586183019791281 Train Acc: 98.575 Val Acc: 97.23\n",
      "Epoch 9\n",
      "Loss:0.03975036610130255 Train Acc: 98.75166666666667 Val Acc: 97.27\n",
      "Epoch 10\n",
      "Loss:0.03445315512520775 Train Acc: 98.845 Val Acc: 97.23\n",
      "Epoch 11\n",
      "Loss:0.029861953742705956 Train Acc: 98.77333333333334 Val Acc: 97.1\n",
      "Epoch 12\n",
      "Loss:0.02617570811801098 Train Acc: 98.75500000000001 Val Acc: 96.93\n",
      "Epoch 13\n",
      "Loss:0.022752301635561162 Train Acc: 99.01666666666667 Val Acc: 97.09\n",
      "Epoch 14\n",
      "Loss:0.01991587680840194 Train Acc: 99.10333333333334 Val Acc: 97.14\n",
      "Epoch 15\n",
      "Loss:0.017317125591054108 Train Acc: 99.31833333333333 Val Acc: 97.44\n",
      "Epoch 16\n",
      "Loss:0.014870606691445454 Train Acc: 99.33833333333332 Val Acc: 97.44\n",
      "Epoch 17\n",
      "Loss:0.012834034942881241 Train Acc: 99.35000000000001 Val Acc: 97.56\n",
      "Epoch 18\n",
      "Loss:0.010982917268028492 Train Acc: 99.49666666666667 Val Acc: 97.64\n",
      "Epoch 19\n",
      "Loss:0.009360162475636528 Train Acc: 99.435 Val Acc: 97.64\n",
      "Epoch 20\n",
      "Loss:0.007910447361174723 Train Acc: 99.53666666666666 Val Acc: 97.7\n"
     ]
    }
   ],
   "source": [
    "model = Model()\n",
    "model.add(Layer(128, activation='relu'))\n",
    "model.add(Layer(64, activation='relu'))\n",
    "model.add(Layer(10, activation='softmax'))\n",
    "model.set_config(epochs=epochs, alpha=lr_start, optimizer='AdamW',lr_decay=lr_decay)\n",
    "model.fit(x_train, y_train, x_test, y_test, batch_size=batch_size)\n",
    "AdamW = model.history"
   ]
  },
  {
   "cell_type": "code",
   "execution_count": 172,
   "metadata": {},
   "outputs": [
    {
     "name": "stdout",
     "output_type": "stream",
     "text": [
      "Epoch 1\n",
      "Loss:0.34525525726787065 Train Acc: 94.59833333333333 Val Acc: 94.27\n",
      "Epoch 2\n",
      "Loss:0.14732157574524915 Train Acc: 96.05166666666666 Val Acc: 95.49\n",
      "Epoch 3\n",
      "Loss:0.11051390974017611 Train Acc: 97.03333333333333 Val Acc: 96.47\n",
      "Epoch 4\n",
      "Loss:0.08838121951405653 Train Acc: 97.60666666666667 Val Acc: 96.78999999999999\n",
      "Epoch 5\n",
      "Loss:0.07312186593982441 Train Acc: 97.955 Val Acc: 96.89999999999999\n",
      "Epoch 6\n",
      "Loss:0.06158788856300335 Train Acc: 98.15166666666667 Val Acc: 97.03\n",
      "Epoch 7\n",
      "Loss:0.05276522536682005 Train Acc: 98.41666666666666 Val Acc: 97.21\n",
      "Epoch 8\n",
      "Loss:0.04539148578620157 Train Acc: 98.65833333333333 Val Acc: 97.25\n",
      "Epoch 9\n",
      "Loss:0.0392544334274763 Train Acc: 98.82666666666667 Val Acc: 97.38\n",
      "Epoch 10\n",
      "Loss:0.03391315881523364 Train Acc: 99.04666666666667 Val Acc: 97.44\n",
      "Epoch 11\n",
      "Loss:0.02937219519817275 Train Acc: 99.14833333333334 Val Acc: 97.50999999999999\n",
      "Epoch 12\n",
      "Loss:0.025526659775357965 Train Acc: 99.17166666666667 Val Acc: 97.46000000000001\n",
      "Epoch 13\n",
      "Loss:0.022093906670588394 Train Acc: 99.21666666666667 Val Acc: 97.48\n",
      "Epoch 14\n",
      "Loss:0.019126039237167356 Train Acc: 99.27333333333334 Val Acc: 97.50999999999999\n",
      "Epoch 15\n",
      "Loss:0.01652421705560063 Train Acc: 99.41666666666666 Val Acc: 97.59\n",
      "Epoch 16\n",
      "Loss:0.014178155887311703 Train Acc: 99.43333333333332 Val Acc: 97.58\n",
      "Epoch 17\n",
      "Loss:0.012253706645026983 Train Acc: 99.515 Val Acc: 97.63\n",
      "Epoch 18\n",
      "Loss:0.010595784027540469 Train Acc: 99.50666666666666 Val Acc: 97.58\n",
      "Epoch 19\n",
      "Loss:0.009213784338289014 Train Acc: 99.57166666666667 Val Acc: 97.65\n",
      "Epoch 20\n",
      "Loss:0.008039320337332293 Train Acc: 99.38166666666667 Val Acc: 97.46000000000001\n"
     ]
    }
   ],
   "source": [
    "model = Model()\n",
    "model.add(Layer(128, activation='relu'))\n",
    "model.add(Layer(64, activation='relu'))\n",
    "model.add(Layer(10, activation='softmax'))\n",
    "model.set_config(epochs=epochs, alpha=lr_start, optimizer='DemonAdam',lr_decay=lr_decay)\n",
    "model.fit(x_train, y_train, x_test, y_test, batch_size=batch_size)\n",
    "DemonAdam = model.history"
   ]
  },
  {
   "cell_type": "code",
   "execution_count": 173,
   "metadata": {},
   "outputs": [
    {
     "name": "stdout",
     "output_type": "stream",
     "text": [
      "Epoch 1\n",
      "Loss:0.3235197321582867 Train Acc: 94.97 Val Acc: 94.78999999999999\n",
      "Epoch 2\n",
      "Loss:0.13689962448749754 Train Acc: 96.49333333333333 Val Acc: 96.0\n",
      "Epoch 3\n",
      "Loss:0.10244087740565229 Train Acc: 97.25333333333333 Val Acc: 96.55\n",
      "Epoch 4\n",
      "Loss:0.08258346578335488 Train Acc: 97.70833333333333 Val Acc: 96.89\n",
      "Epoch 5\n",
      "Loss:0.06885005530345191 Train Acc: 98.07666666666667 Val Acc: 97.06\n",
      "Epoch 6\n",
      "Loss:0.05838936294978799 Train Acc: 98.28166666666667 Val Acc: 97.18\n",
      "Epoch 7\n",
      "Loss:0.05008741167243996 Train Acc: 98.495 Val Acc: 97.21\n",
      "Epoch 8\n",
      "Loss:0.043231249230389554 Train Acc: 98.65 Val Acc: 97.25\n",
      "Epoch 9\n",
      "Loss:0.03740356407496637 Train Acc: 98.815 Val Acc: 97.36\n",
      "Epoch 10\n",
      "Loss:0.032358490016753984 Train Acc: 98.96666666666667 Val Acc: 97.37\n",
      "Epoch 11\n",
      "Loss:0.027981835529313402 Train Acc: 99.08333333333333 Val Acc: 97.43\n",
      "Epoch 12\n",
      "Loss:0.024237164699674095 Train Acc: 99.21166666666666 Val Acc: 97.43\n",
      "Epoch 13\n",
      "Loss:0.020900870355940685 Train Acc: 99.25833333333334 Val Acc: 97.44\n",
      "Epoch 14\n",
      "Loss:0.018025071042554776 Train Acc: 99.33 Val Acc: 97.55\n",
      "Epoch 15\n",
      "Loss:0.015473871592294654 Train Acc: 99.4 Val Acc: 97.53\n",
      "Epoch 16\n",
      "Loss:0.013239434483153411 Train Acc: 99.47333333333333 Val Acc: 97.57000000000001\n",
      "Epoch 17\n",
      "Loss:0.011321036466056745 Train Acc: 99.51 Val Acc: 97.55\n",
      "Epoch 18\n",
      "Loss:0.009688810965579121 Train Acc: 99.54333333333332 Val Acc: 97.55\n",
      "Epoch 19\n",
      "Loss:0.008193314925395608 Train Acc: 99.62833333333333 Val Acc: 97.66\n",
      "Epoch 20\n",
      "Loss:0.006870638094264286 Train Acc: 99.71 Val Acc: 97.65\n"
     ]
    }
   ],
   "source": [
    "model = Model()\n",
    "model.add(Layer(128, activation='relu'))\n",
    "model.add(Layer(64, activation='relu'))\n",
    "model.add(Layer(10, activation='softmax'))\n",
    "model.set_config(epochs=epochs, alpha=lr_start, optimizer='QHAdam',lr_decay=lr_decay)\n",
    "model.fit(x_train, y_train, x_test, y_test, batch_size=batch_size)\n",
    "QHAdam = model.history"
   ]
  },
  {
   "cell_type": "code",
   "execution_count": 174,
   "metadata": {},
   "outputs": [
    {
     "name": "stdout",
     "output_type": "stream",
     "text": [
      "Epoch 1\n",
      "Loss:0.3466096925089451 Train Acc: 94.63000000000001 Val Acc: 94.42\n",
      "Epoch 2\n",
      "Loss:0.14803258841396658 Train Acc: 96.11666666666666 Val Acc: 95.5\n",
      "Epoch 3\n",
      "Loss:0.11072932136290548 Train Acc: 97.11833333333333 Val Acc: 96.52\n",
      "Epoch 4\n",
      "Loss:0.0885864731584125 Train Acc: 97.65166666666667 Val Acc: 96.88\n",
      "Epoch 5\n",
      "Loss:0.07329138452387216 Train Acc: 98.02666666666666 Val Acc: 97.11\n",
      "Epoch 6\n",
      "Loss:0.06192593411986874 Train Acc: 98.28833333333333 Val Acc: 97.21\n",
      "Epoch 7\n",
      "Loss:0.052738580067773363 Train Acc: 98.52499999999999 Val Acc: 97.37\n",
      "Epoch 8\n",
      "Loss:0.04525772289855424 Train Acc: 98.72833333333332 Val Acc: 97.39\n",
      "Epoch 9\n",
      "Loss:0.03917564947688579 Train Acc: 98.86166666666666 Val Acc: 97.47\n",
      "Epoch 10\n",
      "Loss:0.03580128426660475 Train Acc: 99.06833333333334 Val Acc: 97.47\n",
      "Epoch 11\n",
      "Loss:0.02903739373850233 Train Acc: 99.17166666666667 Val Acc: 97.49\n",
      "Epoch 12\n",
      "Loss:0.025051853838685707 Train Acc: 99.24833333333333 Val Acc: 97.53\n",
      "Epoch 13\n",
      "Loss:0.021577411668582847 Train Acc: 99.33 Val Acc: 97.52\n",
      "Epoch 14\n",
      "Loss:0.018636467453626585 Train Acc: 99.32666666666667 Val Acc: 97.48\n",
      "Epoch 15\n",
      "Loss:0.016108984884545166 Train Acc: 99.435 Val Acc: 97.52\n",
      "Epoch 16\n",
      "Loss:0.013811973114091295 Train Acc: 99.46333333333334 Val Acc: 97.56\n",
      "Epoch 17\n",
      "Loss:0.011960577389556193 Train Acc: 99.51166666666667 Val Acc: 97.57000000000001\n",
      "Epoch 18\n",
      "Loss:0.010261760977159808 Train Acc: 99.53999999999999 Val Acc: 97.53\n",
      "Epoch 19\n",
      "Loss:0.008815117777721067 Train Acc: 99.52833333333334 Val Acc: 97.46000000000001\n",
      "Epoch 20\n",
      "Loss:0.022477461307888837 Train Acc: 98.425 Val Acc: 96.76\n"
     ]
    }
   ],
   "source": [
    "model = Model()\n",
    "model.add(Layer(128, activation='relu'))\n",
    "model.add(Layer(64, activation='relu'))\n",
    "model.add(Layer(10, activation='softmax'))\n",
    "model.set_config(epochs=epochs, alpha=lr_start, optimizer='DemonAdamW',lr_decay=lr_decay)\n",
    "model.fit(x_train, y_train, x_test, y_test, batch_size=batch_size)\n",
    "DemonAdamW = model.history"
   ]
  },
  {
   "cell_type": "code",
   "execution_count": 175,
   "metadata": {},
   "outputs": [
    {
     "data": {
      "application/vnd.plotly.v1+json": {
       "config": {
        "plotlyServerURL": "https://plot.ly"
       },
       "data": [
        {
         "name": "Minibatch GD",
         "type": "scatter",
         "x": [
          0,
          1,
          2,
          3,
          4,
          5,
          6,
          7,
          8,
          9,
          10,
          11,
          12,
          13,
          14,
          15,
          16,
          17,
          18,
          19
         ],
         "y": [
          2.1503119682928302,
          1.789025401127598,
          1.4460175021900223,
          1.1681158313491378,
          0.9724806898954285,
          0.8376267271694037,
          0.7421259956904581,
          0.6719898616919099,
          0.6186536204666072,
          0.5768878117558198,
          0.5434002606364619,
          0.5160244313197698,
          0.4932644358199433,
          0.4740456128150996,
          0.4576100884986992,
          0.4434002522618662,
          0.4309912004325757,
          0.4200562273562605,
          0.4103384811479114,
          0.40162777020010226
         ]
        },
        {
         "name": "Momentum",
         "type": "scatter",
         "x": [
          0,
          1,
          2,
          3,
          4,
          5,
          6,
          7,
          8,
          9,
          10,
          11,
          12,
          13,
          14,
          15,
          16,
          17,
          18,
          19
         ],
         "y": [
          1.971548086743485,
          1.250420248838212,
          0.7758959326613197,
          0.5239670911303634,
          0.3382509386365137,
          0.2160378233607533,
          0.16188467669077286,
          0.13054313307258283,
          0.1108617285036437,
          0.09447141691313259,
          0.07913496700905819,
          0.06897837086191724,
          0.06206052102064375,
          0.0563329734093599,
          0.051070260278167856,
          0.04586898762231048,
          0.04112409724026969,
          0.03782737159145678,
          0.03507443108055851,
          0.03321487363372428
         ]
        },
        {
         "name": "DemonSGDM",
         "type": "scatter",
         "x": [
          0,
          1,
          2,
          3,
          4,
          5,
          6,
          7,
          8,
          9,
          10,
          11,
          12,
          13,
          14,
          15,
          16,
          17,
          18,
          19
         ],
         "y": [
          1.1695748081723347,
          0.4815219152400152,
          0.3840708349918986,
          0.3437184550649107,
          0.3193405968850166,
          0.301813844596415,
          0.2881100803189039,
          0.27695226100039216,
          0.26758527517191877,
          0.259602957411795,
          0.2527050033766659,
          0.24671018318933519,
          0.24152454420953665,
          0.23704692432939622,
          0.23320396536963994,
          0.2299315898850171,
          0.22717982953920027,
          0.22491532022212288,
          0.22311117172146333,
          0.22175059387475463
         ]
        },
        {
         "name": "Nesterov Momentum",
         "type": "scatter",
         "x": [
          0,
          1,
          2,
          3,
          4,
          5,
          6,
          7,
          8,
          9,
          10,
          11,
          12,
          13,
          14,
          15,
          16,
          17,
          18,
          19
         ],
         "y": [
          1.9704602353734222,
          1.2492045883557268,
          0.7752782565332458,
          0.5235083758006135,
          0.3309839506914328,
          0.213242561200188,
          0.15996038924505562,
          0.12805185070117284,
          0.1072331054825482,
          0.09302741390169603,
          0.08170495425120991,
          0.07074861171046833,
          0.06088358675288745,
          0.05360022706590098,
          0.047663183301725226,
          0.04280971332381001,
          0.03891703171194897,
          0.035632458849953565,
          0.03289496956360477,
          0.03069104717512433
         ]
        },
        {
         "name": "Demon Nesterov",
         "type": "scatter",
         "x": [
          0,
          1,
          2,
          3,
          4,
          5,
          6,
          7,
          8,
          9,
          10,
          11,
          12,
          13,
          14,
          15,
          16,
          17,
          18,
          19
         ],
         "y": [
          1.1642016084499796,
          0.4806458785894338,
          0.38362110879260547,
          0.3433857232655801,
          0.31904082564565445,
          0.3015359503814585,
          0.28785468308708484,
          0.27670844594355565,
          0.26735741393562656,
          0.2593869526325768,
          0.2525022200321837,
          0.24652098879491402,
          0.24135376910101974,
          0.23688461790934098,
          0.233042576178083,
          0.2297726493963629,
          0.22702523953882325,
          0.22477036248217477,
          0.22298424103441822,
          0.22165722817133504
         ]
        },
        {
         "name": "Adagrad",
         "type": "scatter",
         "x": [
          0,
          1,
          2,
          3,
          4,
          5,
          6,
          7,
          8,
          9,
          10,
          11,
          12,
          13,
          14,
          15,
          16,
          17,
          18,
          19
         ],
         "y": [
          0.7171549526428017,
          0.4096879870265197,
          0.35406859766641036,
          0.32509927665763605,
          0.3060792596133649,
          0.2920151079142119,
          0.28087703721807444,
          0.2716394642224041,
          0.26368003793973244,
          0.256737689077106,
          0.25056972265669597,
          0.245026033828067,
          0.2399862082601527,
          0.23537796690993282,
          0.23112930852829447,
          0.22720130772876618,
          0.22354483072749512,
          0.22012570592528172,
          0.21692272145916144,
          0.21390742771829335
         ]
        },
        {
         "name": "Adadelta",
         "type": "scatter",
         "x": [
          0,
          1,
          2,
          3,
          4,
          5,
          6,
          7,
          8,
          9,
          10,
          11,
          12,
          13,
          14,
          15,
          16,
          17,
          18,
          19
         ],
         "y": [
          0.5216086513178354,
          0.24868579997920504,
          0.19593791375004146,
          0.163083112791142,
          0.14034661366835155,
          0.12333075344112854,
          0.1102290358722389,
          0.09958047746801861,
          0.09069253088535276,
          0.08318852952109285,
          0.07670058435172007,
          0.07106781612803836,
          0.06610386822121951,
          0.06172825657555605,
          0.05779134300235363,
          0.05419936955740931,
          0.050976904100913274,
          0.04801848879892209,
          0.045267722093196454,
          0.04272320723746014
         ]
        },
        {
         "name": "RMSprop",
         "type": "scatter",
         "x": [
          0,
          1,
          2,
          3,
          4,
          5,
          6,
          7,
          8,
          9,
          10,
          11,
          12,
          13,
          14,
          15,
          16,
          17,
          18,
          19
         ],
         "y": [
          0.3112406564104391,
          0.1365898929439944,
          0.09523743957556063,
          0.07248649986327013,
          0.05731829096690027,
          0.04605225146866969,
          0.03685436574078377,
          0.029978551463028705,
          0.024523964547404263,
          0.020361098971166898,
          0.017155416511483806,
          0.013729861192076259,
          0.012077027642831431,
          0.010514242978039025,
          0.008812200253792847,
          0.007967452190204333,
          0.006831711771466555,
          0.0062782327843909636,
          0.005250579385649747,
          0.004453258315318348
         ]
        },
        {
         "name": "Adam",
         "type": "scatter",
         "x": [
          0,
          1,
          2,
          3,
          4,
          5,
          6,
          7,
          8,
          9,
          10,
          11,
          12,
          13,
          14,
          15,
          16,
          17,
          18,
          19
         ],
         "y": [
          0.34624059333092777,
          0.14825623941078148,
          0.11145417180169578,
          0.08935200043307788,
          0.07398113188749977,
          0.06255578133234581,
          0.05367491966493914,
          0.04643268179420983,
          0.0401502688351156,
          0.03492799950511688,
          0.030460472903013912,
          0.026486564063315152,
          0.023012764999635223,
          0.019850895986943798,
          0.017092940164303613,
          0.014669258212178982,
          0.01263727042925123,
          0.010859550462818085,
          0.009267488182499615,
          0.00798217519584946
         ]
        },
        {
         "name": "Adamax",
         "type": "scatter",
         "x": [
          0,
          1,
          2,
          3,
          4,
          5,
          6,
          7,
          8,
          9,
          10,
          11,
          12,
          13,
          14,
          15,
          16,
          17,
          18,
          19
         ],
         "y": [
          1.3882072711887488,
          0.4592084660934654,
          0.3531753695219789,
          0.30761378067950385,
          0.2787598133094216,
          0.2571553470956499,
          0.23938363252245923,
          0.22425914754146434,
          0.2112139834034975,
          0.19980202596668398,
          0.1897602969881926,
          0.18085804369809824,
          0.17287640880367106,
          0.16567168984416727,
          0.15910550063302167,
          0.15308534241829896,
          0.14755990532546973,
          0.14244969603749383,
          0.13767040007548587,
          0.13322062984899766
         ]
        },
        {
         "name": "AdamW",
         "type": "scatter",
         "x": [
          0,
          1,
          2,
          3,
          4,
          5,
          6,
          7,
          8,
          9,
          10,
          11,
          12,
          13,
          14,
          15,
          16,
          17,
          18,
          19
         ],
         "y": [
          0.34693777097493633,
          0.1488490048492696,
          0.11159587537012475,
          0.0891733326214939,
          0.07358275141546555,
          0.0620658785384294,
          0.05303920198505946,
          0.04586183019791281,
          0.03975036610130255,
          0.03445315512520775,
          0.029861953742705956,
          0.02617570811801098,
          0.022752301635561162,
          0.01991587680840194,
          0.017317125591054108,
          0.014870606691445454,
          0.012834034942881241,
          0.010982917268028492,
          0.009360162475636528,
          0.007910447361174723
         ]
        },
        {
         "name": "DemonAdam",
         "type": "scatter",
         "x": [
          0,
          1,
          2,
          3,
          4,
          5,
          6,
          7,
          8,
          9,
          10,
          11,
          12,
          13,
          14,
          15,
          16,
          17,
          18,
          19
         ],
         "y": [
          0.34525525726787065,
          0.14732157574524915,
          0.11051390974017611,
          0.08838121951405653,
          0.07312186593982441,
          0.06158788856300335,
          0.05276522536682005,
          0.04539148578620157,
          0.0392544334274763,
          0.03391315881523364,
          0.02937219519817275,
          0.025526659775357965,
          0.022093906670588394,
          0.019126039237167356,
          0.01652421705560063,
          0.014178155887311703,
          0.012253706645026983,
          0.010595784027540469,
          0.009213784338289014,
          0.008039320337332293
         ]
        },
        {
         "name": "QHAdam",
         "type": "scatter",
         "x": [
          0,
          1,
          2,
          3,
          4,
          5,
          6,
          7,
          8,
          9,
          10,
          11,
          12,
          13,
          14,
          15,
          16,
          17,
          18,
          19
         ],
         "y": [
          0.3235197321582867,
          0.13689962448749754,
          0.10244087740565229,
          0.08258346578335488,
          0.06885005530345191,
          0.05838936294978799,
          0.05008741167243996,
          0.043231249230389554,
          0.03740356407496637,
          0.032358490016753984,
          0.027981835529313402,
          0.024237164699674095,
          0.020900870355940685,
          0.018025071042554776,
          0.015473871592294654,
          0.013239434483153411,
          0.011321036466056745,
          0.009688810965579121,
          0.008193314925395608,
          0.006870638094264286
         ]
        },
        {
         "name": "DemonAdamW",
         "type": "scatter",
         "x": [
          0,
          1,
          2,
          3,
          4,
          5,
          6,
          7,
          8,
          9,
          10,
          11,
          12,
          13,
          14,
          15,
          16,
          17,
          18,
          19
         ],
         "y": [
          0.3466096925089451,
          0.14803258841396658,
          0.11072932136290548,
          0.0885864731584125,
          0.07329138452387216,
          0.06192593411986874,
          0.052738580067773363,
          0.04525772289855424,
          0.03917564947688579,
          0.03580128426660475,
          0.02903739373850233,
          0.025051853838685707,
          0.021577411668582847,
          0.018636467453626585,
          0.016108984884545166,
          0.013811973114091295,
          0.011960577389556193,
          0.010261760977159808,
          0.008815117777721067,
          0.022477461307888837
         ]
        }
       ],
       "layout": {
        "template": {
         "data": {
          "bar": [
           {
            "error_x": {
             "color": "#2a3f5f"
            },
            "error_y": {
             "color": "#2a3f5f"
            },
            "marker": {
             "line": {
              "color": "#E5ECF6",
              "width": 0.5
             }
            },
            "type": "bar"
           }
          ],
          "barpolar": [
           {
            "marker": {
             "line": {
              "color": "#E5ECF6",
              "width": 0.5
             }
            },
            "type": "barpolar"
           }
          ],
          "carpet": [
           {
            "aaxis": {
             "endlinecolor": "#2a3f5f",
             "gridcolor": "white",
             "linecolor": "white",
             "minorgridcolor": "white",
             "startlinecolor": "#2a3f5f"
            },
            "baxis": {
             "endlinecolor": "#2a3f5f",
             "gridcolor": "white",
             "linecolor": "white",
             "minorgridcolor": "white",
             "startlinecolor": "#2a3f5f"
            },
            "type": "carpet"
           }
          ],
          "choropleth": [
           {
            "colorbar": {
             "outlinewidth": 0,
             "ticks": ""
            },
            "type": "choropleth"
           }
          ],
          "contour": [
           {
            "colorbar": {
             "outlinewidth": 0,
             "ticks": ""
            },
            "colorscale": [
             [
              0,
              "#0d0887"
             ],
             [
              0.1111111111111111,
              "#46039f"
             ],
             [
              0.2222222222222222,
              "#7201a8"
             ],
             [
              0.3333333333333333,
              "#9c179e"
             ],
             [
              0.4444444444444444,
              "#bd3786"
             ],
             [
              0.5555555555555556,
              "#d8576b"
             ],
             [
              0.6666666666666666,
              "#ed7953"
             ],
             [
              0.7777777777777778,
              "#fb9f3a"
             ],
             [
              0.8888888888888888,
              "#fdca26"
             ],
             [
              1,
              "#f0f921"
             ]
            ],
            "type": "contour"
           }
          ],
          "contourcarpet": [
           {
            "colorbar": {
             "outlinewidth": 0,
             "ticks": ""
            },
            "type": "contourcarpet"
           }
          ],
          "heatmap": [
           {
            "colorbar": {
             "outlinewidth": 0,
             "ticks": ""
            },
            "colorscale": [
             [
              0,
              "#0d0887"
             ],
             [
              0.1111111111111111,
              "#46039f"
             ],
             [
              0.2222222222222222,
              "#7201a8"
             ],
             [
              0.3333333333333333,
              "#9c179e"
             ],
             [
              0.4444444444444444,
              "#bd3786"
             ],
             [
              0.5555555555555556,
              "#d8576b"
             ],
             [
              0.6666666666666666,
              "#ed7953"
             ],
             [
              0.7777777777777778,
              "#fb9f3a"
             ],
             [
              0.8888888888888888,
              "#fdca26"
             ],
             [
              1,
              "#f0f921"
             ]
            ],
            "type": "heatmap"
           }
          ],
          "heatmapgl": [
           {
            "colorbar": {
             "outlinewidth": 0,
             "ticks": ""
            },
            "colorscale": [
             [
              0,
              "#0d0887"
             ],
             [
              0.1111111111111111,
              "#46039f"
             ],
             [
              0.2222222222222222,
              "#7201a8"
             ],
             [
              0.3333333333333333,
              "#9c179e"
             ],
             [
              0.4444444444444444,
              "#bd3786"
             ],
             [
              0.5555555555555556,
              "#d8576b"
             ],
             [
              0.6666666666666666,
              "#ed7953"
             ],
             [
              0.7777777777777778,
              "#fb9f3a"
             ],
             [
              0.8888888888888888,
              "#fdca26"
             ],
             [
              1,
              "#f0f921"
             ]
            ],
            "type": "heatmapgl"
           }
          ],
          "histogram": [
           {
            "marker": {
             "colorbar": {
              "outlinewidth": 0,
              "ticks": ""
             }
            },
            "type": "histogram"
           }
          ],
          "histogram2d": [
           {
            "colorbar": {
             "outlinewidth": 0,
             "ticks": ""
            },
            "colorscale": [
             [
              0,
              "#0d0887"
             ],
             [
              0.1111111111111111,
              "#46039f"
             ],
             [
              0.2222222222222222,
              "#7201a8"
             ],
             [
              0.3333333333333333,
              "#9c179e"
             ],
             [
              0.4444444444444444,
              "#bd3786"
             ],
             [
              0.5555555555555556,
              "#d8576b"
             ],
             [
              0.6666666666666666,
              "#ed7953"
             ],
             [
              0.7777777777777778,
              "#fb9f3a"
             ],
             [
              0.8888888888888888,
              "#fdca26"
             ],
             [
              1,
              "#f0f921"
             ]
            ],
            "type": "histogram2d"
           }
          ],
          "histogram2dcontour": [
           {
            "colorbar": {
             "outlinewidth": 0,
             "ticks": ""
            },
            "colorscale": [
             [
              0,
              "#0d0887"
             ],
             [
              0.1111111111111111,
              "#46039f"
             ],
             [
              0.2222222222222222,
              "#7201a8"
             ],
             [
              0.3333333333333333,
              "#9c179e"
             ],
             [
              0.4444444444444444,
              "#bd3786"
             ],
             [
              0.5555555555555556,
              "#d8576b"
             ],
             [
              0.6666666666666666,
              "#ed7953"
             ],
             [
              0.7777777777777778,
              "#fb9f3a"
             ],
             [
              0.8888888888888888,
              "#fdca26"
             ],
             [
              1,
              "#f0f921"
             ]
            ],
            "type": "histogram2dcontour"
           }
          ],
          "mesh3d": [
           {
            "colorbar": {
             "outlinewidth": 0,
             "ticks": ""
            },
            "type": "mesh3d"
           }
          ],
          "parcoords": [
           {
            "line": {
             "colorbar": {
              "outlinewidth": 0,
              "ticks": ""
             }
            },
            "type": "parcoords"
           }
          ],
          "pie": [
           {
            "automargin": true,
            "type": "pie"
           }
          ],
          "scatter": [
           {
            "marker": {
             "colorbar": {
              "outlinewidth": 0,
              "ticks": ""
             }
            },
            "type": "scatter"
           }
          ],
          "scatter3d": [
           {
            "line": {
             "colorbar": {
              "outlinewidth": 0,
              "ticks": ""
             }
            },
            "marker": {
             "colorbar": {
              "outlinewidth": 0,
              "ticks": ""
             }
            },
            "type": "scatter3d"
           }
          ],
          "scattercarpet": [
           {
            "marker": {
             "colorbar": {
              "outlinewidth": 0,
              "ticks": ""
             }
            },
            "type": "scattercarpet"
           }
          ],
          "scattergeo": [
           {
            "marker": {
             "colorbar": {
              "outlinewidth": 0,
              "ticks": ""
             }
            },
            "type": "scattergeo"
           }
          ],
          "scattergl": [
           {
            "marker": {
             "colorbar": {
              "outlinewidth": 0,
              "ticks": ""
             }
            },
            "type": "scattergl"
           }
          ],
          "scattermapbox": [
           {
            "marker": {
             "colorbar": {
              "outlinewidth": 0,
              "ticks": ""
             }
            },
            "type": "scattermapbox"
           }
          ],
          "scatterpolar": [
           {
            "marker": {
             "colorbar": {
              "outlinewidth": 0,
              "ticks": ""
             }
            },
            "type": "scatterpolar"
           }
          ],
          "scatterpolargl": [
           {
            "marker": {
             "colorbar": {
              "outlinewidth": 0,
              "ticks": ""
             }
            },
            "type": "scatterpolargl"
           }
          ],
          "scatterternary": [
           {
            "marker": {
             "colorbar": {
              "outlinewidth": 0,
              "ticks": ""
             }
            },
            "type": "scatterternary"
           }
          ],
          "surface": [
           {
            "colorbar": {
             "outlinewidth": 0,
             "ticks": ""
            },
            "colorscale": [
             [
              0,
              "#0d0887"
             ],
             [
              0.1111111111111111,
              "#46039f"
             ],
             [
              0.2222222222222222,
              "#7201a8"
             ],
             [
              0.3333333333333333,
              "#9c179e"
             ],
             [
              0.4444444444444444,
              "#bd3786"
             ],
             [
              0.5555555555555556,
              "#d8576b"
             ],
             [
              0.6666666666666666,
              "#ed7953"
             ],
             [
              0.7777777777777778,
              "#fb9f3a"
             ],
             [
              0.8888888888888888,
              "#fdca26"
             ],
             [
              1,
              "#f0f921"
             ]
            ],
            "type": "surface"
           }
          ],
          "table": [
           {
            "cells": {
             "fill": {
              "color": "#EBF0F8"
             },
             "line": {
              "color": "white"
             }
            },
            "header": {
             "fill": {
              "color": "#C8D4E3"
             },
             "line": {
              "color": "white"
             }
            },
            "type": "table"
           }
          ]
         },
         "layout": {
          "annotationdefaults": {
           "arrowcolor": "#2a3f5f",
           "arrowhead": 0,
           "arrowwidth": 1
          },
          "coloraxis": {
           "colorbar": {
            "outlinewidth": 0,
            "ticks": ""
           }
          },
          "colorscale": {
           "diverging": [
            [
             0,
             "#8e0152"
            ],
            [
             0.1,
             "#c51b7d"
            ],
            [
             0.2,
             "#de77ae"
            ],
            [
             0.3,
             "#f1b6da"
            ],
            [
             0.4,
             "#fde0ef"
            ],
            [
             0.5,
             "#f7f7f7"
            ],
            [
             0.6,
             "#e6f5d0"
            ],
            [
             0.7,
             "#b8e186"
            ],
            [
             0.8,
             "#7fbc41"
            ],
            [
             0.9,
             "#4d9221"
            ],
            [
             1,
             "#276419"
            ]
           ],
           "sequential": [
            [
             0,
             "#0d0887"
            ],
            [
             0.1111111111111111,
             "#46039f"
            ],
            [
             0.2222222222222222,
             "#7201a8"
            ],
            [
             0.3333333333333333,
             "#9c179e"
            ],
            [
             0.4444444444444444,
             "#bd3786"
            ],
            [
             0.5555555555555556,
             "#d8576b"
            ],
            [
             0.6666666666666666,
             "#ed7953"
            ],
            [
             0.7777777777777778,
             "#fb9f3a"
            ],
            [
             0.8888888888888888,
             "#fdca26"
            ],
            [
             1,
             "#f0f921"
            ]
           ],
           "sequentialminus": [
            [
             0,
             "#0d0887"
            ],
            [
             0.1111111111111111,
             "#46039f"
            ],
            [
             0.2222222222222222,
             "#7201a8"
            ],
            [
             0.3333333333333333,
             "#9c179e"
            ],
            [
             0.4444444444444444,
             "#bd3786"
            ],
            [
             0.5555555555555556,
             "#d8576b"
            ],
            [
             0.6666666666666666,
             "#ed7953"
            ],
            [
             0.7777777777777778,
             "#fb9f3a"
            ],
            [
             0.8888888888888888,
             "#fdca26"
            ],
            [
             1,
             "#f0f921"
            ]
           ]
          },
          "colorway": [
           "#636efa",
           "#EF553B",
           "#00cc96",
           "#ab63fa",
           "#FFA15A",
           "#19d3f3",
           "#FF6692",
           "#B6E880",
           "#FF97FF",
           "#FECB52"
          ],
          "font": {
           "color": "#2a3f5f"
          },
          "geo": {
           "bgcolor": "white",
           "lakecolor": "white",
           "landcolor": "#E5ECF6",
           "showlakes": true,
           "showland": true,
           "subunitcolor": "white"
          },
          "hoverlabel": {
           "align": "left"
          },
          "hovermode": "closest",
          "mapbox": {
           "style": "light"
          },
          "paper_bgcolor": "white",
          "plot_bgcolor": "#E5ECF6",
          "polar": {
           "angularaxis": {
            "gridcolor": "white",
            "linecolor": "white",
            "ticks": ""
           },
           "bgcolor": "#E5ECF6",
           "radialaxis": {
            "gridcolor": "white",
            "linecolor": "white",
            "ticks": ""
           }
          },
          "scene": {
           "xaxis": {
            "backgroundcolor": "#E5ECF6",
            "gridcolor": "white",
            "gridwidth": 2,
            "linecolor": "white",
            "showbackground": true,
            "ticks": "",
            "zerolinecolor": "white"
           },
           "yaxis": {
            "backgroundcolor": "#E5ECF6",
            "gridcolor": "white",
            "gridwidth": 2,
            "linecolor": "white",
            "showbackground": true,
            "ticks": "",
            "zerolinecolor": "white"
           },
           "zaxis": {
            "backgroundcolor": "#E5ECF6",
            "gridcolor": "white",
            "gridwidth": 2,
            "linecolor": "white",
            "showbackground": true,
            "ticks": "",
            "zerolinecolor": "white"
           }
          },
          "shapedefaults": {
           "line": {
            "color": "#2a3f5f"
           }
          },
          "ternary": {
           "aaxis": {
            "gridcolor": "white",
            "linecolor": "white",
            "ticks": ""
           },
           "baxis": {
            "gridcolor": "white",
            "linecolor": "white",
            "ticks": ""
           },
           "bgcolor": "#E5ECF6",
           "caxis": {
            "gridcolor": "white",
            "linecolor": "white",
            "ticks": ""
           }
          },
          "title": {
           "x": 0.05
          },
          "xaxis": {
           "automargin": true,
           "gridcolor": "white",
           "linecolor": "white",
           "ticks": "",
           "title": {
            "standoff": 15
           },
           "zerolinecolor": "white",
           "zerolinewidth": 2
          },
          "yaxis": {
           "automargin": true,
           "gridcolor": "white",
           "linecolor": "white",
           "ticks": "",
           "title": {
            "standoff": 15
           },
           "zerolinecolor": "white",
           "zerolinewidth": 2
          }
         }
        }
       }
      },
      "text/html": [
       "<div>                            <div id=\"37ac294b-6c52-43c1-9e17-c68826953d59\" class=\"plotly-graph-div\" style=\"height:525px; width:100%;\"></div>            <script type=\"text/javascript\">                require([\"plotly\"], function(Plotly) {                    window.PLOTLYENV=window.PLOTLYENV || {};                                    if (document.getElementById(\"37ac294b-6c52-43c1-9e17-c68826953d59\")) {                    Plotly.newPlot(                        \"37ac294b-6c52-43c1-9e17-c68826953d59\",                        [{\"name\": \"Minibatch GD\", \"type\": \"scatter\", \"x\": [0, 1, 2, 3, 4, 5, 6, 7, 8, 9, 10, 11, 12, 13, 14, 15, 16, 17, 18, 19], \"y\": [2.1503119682928302, 1.789025401127598, 1.4460175021900223, 1.1681158313491378, 0.9724806898954285, 0.8376267271694037, 0.7421259956904581, 0.6719898616919099, 0.6186536204666072, 0.5768878117558198, 0.5434002606364619, 0.5160244313197698, 0.4932644358199433, 0.4740456128150996, 0.4576100884986992, 0.4434002522618662, 0.4309912004325757, 0.4200562273562605, 0.4103384811479114, 0.40162777020010226]}, {\"name\": \"Momentum\", \"type\": \"scatter\", \"x\": [0, 1, 2, 3, 4, 5, 6, 7, 8, 9, 10, 11, 12, 13, 14, 15, 16, 17, 18, 19], \"y\": [1.971548086743485, 1.250420248838212, 0.7758959326613197, 0.5239670911303634, 0.3382509386365137, 0.2160378233607533, 0.16188467669077286, 0.13054313307258283, 0.1108617285036437, 0.09447141691313259, 0.07913496700905819, 0.06897837086191724, 0.06206052102064375, 0.0563329734093599, 0.051070260278167856, 0.04586898762231048, 0.04112409724026969, 0.03782737159145678, 0.03507443108055851, 0.03321487363372428]}, {\"name\": \"DemonSGDM\", \"type\": \"scatter\", \"x\": [0, 1, 2, 3, 4, 5, 6, 7, 8, 9, 10, 11, 12, 13, 14, 15, 16, 17, 18, 19], \"y\": [1.1695748081723347, 0.4815219152400152, 0.3840708349918986, 0.3437184550649107, 0.3193405968850166, 0.301813844596415, 0.2881100803189039, 0.27695226100039216, 0.26758527517191877, 0.259602957411795, 0.2527050033766659, 0.24671018318933519, 0.24152454420953665, 0.23704692432939622, 0.23320396536963994, 0.2299315898850171, 0.22717982953920027, 0.22491532022212288, 0.22311117172146333, 0.22175059387475463]}, {\"name\": \"Nesterov Momentum\", \"type\": \"scatter\", \"x\": [0, 1, 2, 3, 4, 5, 6, 7, 8, 9, 10, 11, 12, 13, 14, 15, 16, 17, 18, 19], \"y\": [1.9704602353734222, 1.2492045883557268, 0.7752782565332458, 0.5235083758006135, 0.3309839506914328, 0.213242561200188, 0.15996038924505562, 0.12805185070117284, 0.1072331054825482, 0.09302741390169603, 0.08170495425120991, 0.07074861171046833, 0.06088358675288745, 0.05360022706590098, 0.047663183301725226, 0.04280971332381001, 0.03891703171194897, 0.035632458849953565, 0.03289496956360477, 0.03069104717512433]}, {\"name\": \"Demon Nesterov\", \"type\": \"scatter\", \"x\": [0, 1, 2, 3, 4, 5, 6, 7, 8, 9, 10, 11, 12, 13, 14, 15, 16, 17, 18, 19], \"y\": [1.1642016084499796, 0.4806458785894338, 0.38362110879260547, 0.3433857232655801, 0.31904082564565445, 0.3015359503814585, 0.28785468308708484, 0.27670844594355565, 0.26735741393562656, 0.2593869526325768, 0.2525022200321837, 0.24652098879491402, 0.24135376910101974, 0.23688461790934098, 0.233042576178083, 0.2297726493963629, 0.22702523953882325, 0.22477036248217477, 0.22298424103441822, 0.22165722817133504]}, {\"name\": \"Adagrad\", \"type\": \"scatter\", \"x\": [0, 1, 2, 3, 4, 5, 6, 7, 8, 9, 10, 11, 12, 13, 14, 15, 16, 17, 18, 19], \"y\": [0.7171549526428017, 0.4096879870265197, 0.35406859766641036, 0.32509927665763605, 0.3060792596133649, 0.2920151079142119, 0.28087703721807444, 0.2716394642224041, 0.26368003793973244, 0.256737689077106, 0.25056972265669597, 0.245026033828067, 0.2399862082601527, 0.23537796690993282, 0.23112930852829447, 0.22720130772876618, 0.22354483072749512, 0.22012570592528172, 0.21692272145916144, 0.21390742771829335]}, {\"name\": \"Adadelta\", \"type\": \"scatter\", \"x\": [0, 1, 2, 3, 4, 5, 6, 7, 8, 9, 10, 11, 12, 13, 14, 15, 16, 17, 18, 19], \"y\": [0.5216086513178354, 0.24868579997920504, 0.19593791375004146, 0.163083112791142, 0.14034661366835155, 0.12333075344112854, 0.1102290358722389, 0.09958047746801861, 0.09069253088535276, 0.08318852952109285, 0.07670058435172007, 0.07106781612803836, 0.06610386822121951, 0.06172825657555605, 0.05779134300235363, 0.05419936955740931, 0.050976904100913274, 0.04801848879892209, 0.045267722093196454, 0.04272320723746014]}, {\"name\": \"RMSprop\", \"type\": \"scatter\", \"x\": [0, 1, 2, 3, 4, 5, 6, 7, 8, 9, 10, 11, 12, 13, 14, 15, 16, 17, 18, 19], \"y\": [0.3112406564104391, 0.1365898929439944, 0.09523743957556063, 0.07248649986327013, 0.05731829096690027, 0.04605225146866969, 0.03685436574078377, 0.029978551463028705, 0.024523964547404263, 0.020361098971166898, 0.017155416511483806, 0.013729861192076259, 0.012077027642831431, 0.010514242978039025, 0.008812200253792847, 0.007967452190204333, 0.006831711771466555, 0.0062782327843909636, 0.005250579385649747, 0.004453258315318348]}, {\"name\": \"Adam\", \"type\": \"scatter\", \"x\": [0, 1, 2, 3, 4, 5, 6, 7, 8, 9, 10, 11, 12, 13, 14, 15, 16, 17, 18, 19], \"y\": [0.34624059333092777, 0.14825623941078148, 0.11145417180169578, 0.08935200043307788, 0.07398113188749977, 0.06255578133234581, 0.05367491966493914, 0.04643268179420983, 0.0401502688351156, 0.03492799950511688, 0.030460472903013912, 0.026486564063315152, 0.023012764999635223, 0.019850895986943798, 0.017092940164303613, 0.014669258212178982, 0.01263727042925123, 0.010859550462818085, 0.009267488182499615, 0.00798217519584946]}, {\"name\": \"Adamax\", \"type\": \"scatter\", \"x\": [0, 1, 2, 3, 4, 5, 6, 7, 8, 9, 10, 11, 12, 13, 14, 15, 16, 17, 18, 19], \"y\": [1.3882072711887488, 0.4592084660934654, 0.3531753695219789, 0.30761378067950385, 0.2787598133094216, 0.2571553470956499, 0.23938363252245923, 0.22425914754146434, 0.2112139834034975, 0.19980202596668398, 0.1897602969881926, 0.18085804369809824, 0.17287640880367106, 0.16567168984416727, 0.15910550063302167, 0.15308534241829896, 0.14755990532546973, 0.14244969603749383, 0.13767040007548587, 0.13322062984899766]}, {\"name\": \"AdamW\", \"type\": \"scatter\", \"x\": [0, 1, 2, 3, 4, 5, 6, 7, 8, 9, 10, 11, 12, 13, 14, 15, 16, 17, 18, 19], \"y\": [0.34693777097493633, 0.1488490048492696, 0.11159587537012475, 0.0891733326214939, 0.07358275141546555, 0.0620658785384294, 0.05303920198505946, 0.04586183019791281, 0.03975036610130255, 0.03445315512520775, 0.029861953742705956, 0.02617570811801098, 0.022752301635561162, 0.01991587680840194, 0.017317125591054108, 0.014870606691445454, 0.012834034942881241, 0.010982917268028492, 0.009360162475636528, 0.007910447361174723]}, {\"name\": \"DemonAdam\", \"type\": \"scatter\", \"x\": [0, 1, 2, 3, 4, 5, 6, 7, 8, 9, 10, 11, 12, 13, 14, 15, 16, 17, 18, 19], \"y\": [0.34525525726787065, 0.14732157574524915, 0.11051390974017611, 0.08838121951405653, 0.07312186593982441, 0.06158788856300335, 0.05276522536682005, 0.04539148578620157, 0.0392544334274763, 0.03391315881523364, 0.02937219519817275, 0.025526659775357965, 0.022093906670588394, 0.019126039237167356, 0.01652421705560063, 0.014178155887311703, 0.012253706645026983, 0.010595784027540469, 0.009213784338289014, 0.008039320337332293]}, {\"name\": \"QHAdam\", \"type\": \"scatter\", \"x\": [0, 1, 2, 3, 4, 5, 6, 7, 8, 9, 10, 11, 12, 13, 14, 15, 16, 17, 18, 19], \"y\": [0.3235197321582867, 0.13689962448749754, 0.10244087740565229, 0.08258346578335488, 0.06885005530345191, 0.05838936294978799, 0.05008741167243996, 0.043231249230389554, 0.03740356407496637, 0.032358490016753984, 0.027981835529313402, 0.024237164699674095, 0.020900870355940685, 0.018025071042554776, 0.015473871592294654, 0.013239434483153411, 0.011321036466056745, 0.009688810965579121, 0.008193314925395608, 0.006870638094264286]}, {\"name\": \"DemonAdamW\", \"type\": \"scatter\", \"x\": [0, 1, 2, 3, 4, 5, 6, 7, 8, 9, 10, 11, 12, 13, 14, 15, 16, 17, 18, 19], \"y\": [0.3466096925089451, 0.14803258841396658, 0.11072932136290548, 0.0885864731584125, 0.07329138452387216, 0.06192593411986874, 0.052738580067773363, 0.04525772289855424, 0.03917564947688579, 0.03580128426660475, 0.02903739373850233, 0.025051853838685707, 0.021577411668582847, 0.018636467453626585, 0.016108984884545166, 0.013811973114091295, 0.011960577389556193, 0.010261760977159808, 0.008815117777721067, 0.022477461307888837]}],                        {\"template\": {\"data\": {\"bar\": [{\"error_x\": {\"color\": \"#2a3f5f\"}, \"error_y\": {\"color\": \"#2a3f5f\"}, \"marker\": {\"line\": {\"color\": \"#E5ECF6\", \"width\": 0.5}}, \"type\": \"bar\"}], \"barpolar\": [{\"marker\": {\"line\": {\"color\": \"#E5ECF6\", \"width\": 0.5}}, \"type\": \"barpolar\"}], \"carpet\": [{\"aaxis\": {\"endlinecolor\": \"#2a3f5f\", \"gridcolor\": \"white\", \"linecolor\": \"white\", \"minorgridcolor\": \"white\", \"startlinecolor\": \"#2a3f5f\"}, \"baxis\": {\"endlinecolor\": \"#2a3f5f\", \"gridcolor\": \"white\", \"linecolor\": \"white\", \"minorgridcolor\": \"white\", \"startlinecolor\": \"#2a3f5f\"}, \"type\": \"carpet\"}], \"choropleth\": [{\"colorbar\": {\"outlinewidth\": 0, \"ticks\": \"\"}, \"type\": \"choropleth\"}], \"contour\": [{\"colorbar\": {\"outlinewidth\": 0, \"ticks\": \"\"}, \"colorscale\": [[0.0, \"#0d0887\"], [0.1111111111111111, \"#46039f\"], [0.2222222222222222, \"#7201a8\"], [0.3333333333333333, \"#9c179e\"], [0.4444444444444444, \"#bd3786\"], [0.5555555555555556, \"#d8576b\"], [0.6666666666666666, \"#ed7953\"], [0.7777777777777778, \"#fb9f3a\"], [0.8888888888888888, \"#fdca26\"], [1.0, \"#f0f921\"]], \"type\": \"contour\"}], \"contourcarpet\": [{\"colorbar\": {\"outlinewidth\": 0, \"ticks\": \"\"}, \"type\": \"contourcarpet\"}], \"heatmap\": [{\"colorbar\": {\"outlinewidth\": 0, \"ticks\": \"\"}, \"colorscale\": [[0.0, \"#0d0887\"], [0.1111111111111111, \"#46039f\"], [0.2222222222222222, \"#7201a8\"], [0.3333333333333333, \"#9c179e\"], [0.4444444444444444, \"#bd3786\"], [0.5555555555555556, \"#d8576b\"], [0.6666666666666666, \"#ed7953\"], [0.7777777777777778, \"#fb9f3a\"], [0.8888888888888888, \"#fdca26\"], [1.0, \"#f0f921\"]], \"type\": \"heatmap\"}], \"heatmapgl\": [{\"colorbar\": {\"outlinewidth\": 0, \"ticks\": \"\"}, \"colorscale\": [[0.0, \"#0d0887\"], [0.1111111111111111, \"#46039f\"], [0.2222222222222222, \"#7201a8\"], [0.3333333333333333, \"#9c179e\"], [0.4444444444444444, \"#bd3786\"], [0.5555555555555556, \"#d8576b\"], [0.6666666666666666, \"#ed7953\"], [0.7777777777777778, \"#fb9f3a\"], [0.8888888888888888, \"#fdca26\"], [1.0, \"#f0f921\"]], \"type\": \"heatmapgl\"}], \"histogram\": [{\"marker\": {\"colorbar\": {\"outlinewidth\": 0, \"ticks\": \"\"}}, \"type\": \"histogram\"}], \"histogram2d\": [{\"colorbar\": {\"outlinewidth\": 0, \"ticks\": \"\"}, \"colorscale\": [[0.0, \"#0d0887\"], [0.1111111111111111, \"#46039f\"], [0.2222222222222222, \"#7201a8\"], [0.3333333333333333, \"#9c179e\"], [0.4444444444444444, \"#bd3786\"], [0.5555555555555556, \"#d8576b\"], [0.6666666666666666, \"#ed7953\"], [0.7777777777777778, \"#fb9f3a\"], [0.8888888888888888, \"#fdca26\"], [1.0, \"#f0f921\"]], \"type\": \"histogram2d\"}], \"histogram2dcontour\": [{\"colorbar\": {\"outlinewidth\": 0, \"ticks\": \"\"}, \"colorscale\": [[0.0, \"#0d0887\"], [0.1111111111111111, \"#46039f\"], [0.2222222222222222, \"#7201a8\"], [0.3333333333333333, \"#9c179e\"], [0.4444444444444444, \"#bd3786\"], [0.5555555555555556, \"#d8576b\"], [0.6666666666666666, \"#ed7953\"], [0.7777777777777778, \"#fb9f3a\"], [0.8888888888888888, \"#fdca26\"], [1.0, \"#f0f921\"]], \"type\": \"histogram2dcontour\"}], \"mesh3d\": [{\"colorbar\": {\"outlinewidth\": 0, \"ticks\": \"\"}, \"type\": \"mesh3d\"}], \"parcoords\": [{\"line\": {\"colorbar\": {\"outlinewidth\": 0, \"ticks\": \"\"}}, \"type\": \"parcoords\"}], \"pie\": [{\"automargin\": true, \"type\": \"pie\"}], \"scatter\": [{\"marker\": {\"colorbar\": {\"outlinewidth\": 0, \"ticks\": \"\"}}, \"type\": \"scatter\"}], \"scatter3d\": [{\"line\": {\"colorbar\": {\"outlinewidth\": 0, \"ticks\": \"\"}}, \"marker\": {\"colorbar\": {\"outlinewidth\": 0, \"ticks\": \"\"}}, \"type\": \"scatter3d\"}], \"scattercarpet\": [{\"marker\": {\"colorbar\": {\"outlinewidth\": 0, \"ticks\": \"\"}}, \"type\": \"scattercarpet\"}], \"scattergeo\": [{\"marker\": {\"colorbar\": {\"outlinewidth\": 0, \"ticks\": \"\"}}, \"type\": \"scattergeo\"}], \"scattergl\": [{\"marker\": {\"colorbar\": {\"outlinewidth\": 0, \"ticks\": \"\"}}, \"type\": \"scattergl\"}], \"scattermapbox\": [{\"marker\": {\"colorbar\": {\"outlinewidth\": 0, \"ticks\": \"\"}}, \"type\": \"scattermapbox\"}], \"scatterpolar\": [{\"marker\": {\"colorbar\": {\"outlinewidth\": 0, \"ticks\": \"\"}}, \"type\": \"scatterpolar\"}], \"scatterpolargl\": [{\"marker\": {\"colorbar\": {\"outlinewidth\": 0, \"ticks\": \"\"}}, \"type\": \"scatterpolargl\"}], \"scatterternary\": [{\"marker\": {\"colorbar\": {\"outlinewidth\": 0, \"ticks\": \"\"}}, \"type\": \"scatterternary\"}], \"surface\": [{\"colorbar\": {\"outlinewidth\": 0, \"ticks\": \"\"}, \"colorscale\": [[0.0, \"#0d0887\"], [0.1111111111111111, \"#46039f\"], [0.2222222222222222, \"#7201a8\"], [0.3333333333333333, \"#9c179e\"], [0.4444444444444444, \"#bd3786\"], [0.5555555555555556, \"#d8576b\"], [0.6666666666666666, \"#ed7953\"], [0.7777777777777778, \"#fb9f3a\"], [0.8888888888888888, \"#fdca26\"], [1.0, \"#f0f921\"]], \"type\": \"surface\"}], \"table\": [{\"cells\": {\"fill\": {\"color\": \"#EBF0F8\"}, \"line\": {\"color\": \"white\"}}, \"header\": {\"fill\": {\"color\": \"#C8D4E3\"}, \"line\": {\"color\": \"white\"}}, \"type\": \"table\"}]}, \"layout\": {\"annotationdefaults\": {\"arrowcolor\": \"#2a3f5f\", \"arrowhead\": 0, \"arrowwidth\": 1}, \"coloraxis\": {\"colorbar\": {\"outlinewidth\": 0, \"ticks\": \"\"}}, \"colorscale\": {\"diverging\": [[0, \"#8e0152\"], [0.1, \"#c51b7d\"], [0.2, \"#de77ae\"], [0.3, \"#f1b6da\"], [0.4, \"#fde0ef\"], [0.5, \"#f7f7f7\"], [0.6, \"#e6f5d0\"], [0.7, \"#b8e186\"], [0.8, \"#7fbc41\"], [0.9, \"#4d9221\"], [1, \"#276419\"]], \"sequential\": [[0.0, \"#0d0887\"], [0.1111111111111111, \"#46039f\"], [0.2222222222222222, \"#7201a8\"], [0.3333333333333333, \"#9c179e\"], [0.4444444444444444, \"#bd3786\"], [0.5555555555555556, \"#d8576b\"], [0.6666666666666666, \"#ed7953\"], [0.7777777777777778, \"#fb9f3a\"], [0.8888888888888888, \"#fdca26\"], [1.0, \"#f0f921\"]], \"sequentialminus\": [[0.0, \"#0d0887\"], [0.1111111111111111, \"#46039f\"], [0.2222222222222222, \"#7201a8\"], [0.3333333333333333, \"#9c179e\"], [0.4444444444444444, \"#bd3786\"], [0.5555555555555556, \"#d8576b\"], [0.6666666666666666, \"#ed7953\"], [0.7777777777777778, \"#fb9f3a\"], [0.8888888888888888, \"#fdca26\"], [1.0, \"#f0f921\"]]}, \"colorway\": [\"#636efa\", \"#EF553B\", \"#00cc96\", \"#ab63fa\", \"#FFA15A\", \"#19d3f3\", \"#FF6692\", \"#B6E880\", \"#FF97FF\", \"#FECB52\"], \"font\": {\"color\": \"#2a3f5f\"}, \"geo\": {\"bgcolor\": \"white\", \"lakecolor\": \"white\", \"landcolor\": \"#E5ECF6\", \"showlakes\": true, \"showland\": true, \"subunitcolor\": \"white\"}, \"hoverlabel\": {\"align\": \"left\"}, \"hovermode\": \"closest\", \"mapbox\": {\"style\": \"light\"}, \"paper_bgcolor\": \"white\", \"plot_bgcolor\": \"#E5ECF6\", \"polar\": {\"angularaxis\": {\"gridcolor\": \"white\", \"linecolor\": \"white\", \"ticks\": \"\"}, \"bgcolor\": \"#E5ECF6\", \"radialaxis\": {\"gridcolor\": \"white\", \"linecolor\": \"white\", \"ticks\": \"\"}}, \"scene\": {\"xaxis\": {\"backgroundcolor\": \"#E5ECF6\", \"gridcolor\": \"white\", \"gridwidth\": 2, \"linecolor\": \"white\", \"showbackground\": true, \"ticks\": \"\", \"zerolinecolor\": \"white\"}, \"yaxis\": {\"backgroundcolor\": \"#E5ECF6\", \"gridcolor\": \"white\", \"gridwidth\": 2, \"linecolor\": \"white\", \"showbackground\": true, \"ticks\": \"\", \"zerolinecolor\": \"white\"}, \"zaxis\": {\"backgroundcolor\": \"#E5ECF6\", \"gridcolor\": \"white\", \"gridwidth\": 2, \"linecolor\": \"white\", \"showbackground\": true, \"ticks\": \"\", \"zerolinecolor\": \"white\"}}, \"shapedefaults\": {\"line\": {\"color\": \"#2a3f5f\"}}, \"ternary\": {\"aaxis\": {\"gridcolor\": \"white\", \"linecolor\": \"white\", \"ticks\": \"\"}, \"baxis\": {\"gridcolor\": \"white\", \"linecolor\": \"white\", \"ticks\": \"\"}, \"bgcolor\": \"#E5ECF6\", \"caxis\": {\"gridcolor\": \"white\", \"linecolor\": \"white\", \"ticks\": \"\"}}, \"title\": {\"x\": 0.05}, \"xaxis\": {\"automargin\": true, \"gridcolor\": \"white\", \"linecolor\": \"white\", \"ticks\": \"\", \"title\": {\"standoff\": 15}, \"zerolinecolor\": \"white\", \"zerolinewidth\": 2}, \"yaxis\": {\"automargin\": true, \"gridcolor\": \"white\", \"linecolor\": \"white\", \"ticks\": \"\", \"title\": {\"standoff\": 15}, \"zerolinecolor\": \"white\", \"zerolinewidth\": 2}}}},                        {\"responsive\": true}                    ).then(function(){\n",
       "                            \n",
       "var gd = document.getElementById('37ac294b-6c52-43c1-9e17-c68826953d59');\n",
       "var x = new MutationObserver(function (mutations, observer) {{\n",
       "        var display = window.getComputedStyle(gd).display;\n",
       "        if (!display || display === 'none') {{\n",
       "            console.log([gd, 'removed!']);\n",
       "            Plotly.purge(gd);\n",
       "            observer.disconnect();\n",
       "        }}\n",
       "}});\n",
       "\n",
       "// Listen for the removal of the full notebook cells\n",
       "var notebookContainer = gd.closest('#notebook-container');\n",
       "if (notebookContainer) {{\n",
       "    x.observe(notebookContainer, {childList: true});\n",
       "}}\n",
       "\n",
       "// Listen for the clearing of the current output cell\n",
       "var outputEl = gd.closest('.output');\n",
       "if (outputEl) {{\n",
       "    x.observe(outputEl, {childList: true});\n",
       "}}\n",
       "\n",
       "                        })                };                });            </script>        </div>"
      ]
     },
     "metadata": {},
     "output_type": "display_data"
    }
   ],
   "source": [
    "num_epochs = [i for i in range(model.epochs)]\n",
    "fig = go.Figure()\n",
    "fig.add_trace(go.Scatter(x=num_epochs, y=vanilla['train_loss'], name='Minibatch GD'))\n",
    "fig.add_trace(go.Scatter(x=num_epochs, y=momentum['train_loss'], name='Momentum'))\n",
    "fig.add_trace(go.Scatter(x=num_epochs, y=DemonSGDM['train_loss'], name='DemonSGDM'))\n",
    "fig.add_trace(go.Scatter(x=num_epochs, y=nesterov['train_loss'], name='Nesterov Momentum'))\n",
    "fig.add_trace(go.Scatter(x=num_epochs, y=DemonNesterov['train_loss'], name='Demon Nesterov'))\n",
    "fig.add_trace(go.Scatter(x=num_epochs, y=adagrad['train_loss'], name='Adagrad'))\n",
    "fig.add_trace(go.Scatter(x=num_epochs, y=adadelta['train_loss'], name='Adadelta'))\n",
    "fig.add_trace(go.Scatter(x=num_epochs, y=RMSprop['train_loss'], name='RMSprop'))\n",
    "fig.add_trace(go.Scatter(x=num_epochs, y=Adam['train_loss'], name='Adam'))\n",
    "fig.add_trace(go.Scatter(x=num_epochs, y=Adamax['train_loss'], name='Adamax'))\n",
    "fig.add_trace(go.Scatter(x=num_epochs, y=AdamW['train_loss'], name='AdamW'))\n",
    "fig.add_trace(go.Scatter(x=num_epochs, y=DemonAdam['train_loss'], name='DemonAdam'))\n",
    "fig.add_trace(go.Scatter(x=num_epochs, y=QHAdam['train_loss'], name='QHAdam'))\n",
    "fig.add_trace(go.Scatter(x=num_epochs, y=DemonAdamW['train_loss'], name='DemonAdamW'))"
   ]
  },
  {
   "cell_type": "code",
   "execution_count": 176,
   "metadata": {},
   "outputs": [
    {
     "data": {
      "application/vnd.plotly.v1+json": {
       "config": {
        "plotlyServerURL": "https://plot.ly"
       },
       "data": [
        {
         "name": "Minibatch GD",
         "type": "scatter",
         "x": [
          0,
          1,
          2,
          3,
          4,
          5,
          6,
          7,
          8,
          9,
          10,
          11,
          12,
          13,
          14,
          15,
          16,
          17,
          18,
          19
         ],
         "y": [
          43.63,
          61.86000000000001,
          70.96000000000001,
          76.83,
          80.05,
          82.41000000000001,
          84.07,
          85.34,
          86.32,
          86.89,
          87.41,
          87.92999999999999,
          88.37,
          88.69,
          89.03,
          89.21,
          89.38000000000001,
          89.53999999999999,
          89.73,
          89.92
         ]
        },
        {
         "name": "Momentum",
         "type": "scatter",
         "x": [
          0,
          1,
          2,
          3,
          4,
          5,
          6,
          7,
          8,
          9,
          10,
          11,
          12,
          13,
          14,
          15,
          16,
          17,
          18,
          19
         ],
         "y": [
          61.78,
          78.38000000000001,
          85.24000000000001,
          88.99000000000001,
          93.05,
          94.69999999999999,
          96,
          96.34,
          96.71,
          96.84,
          96.81,
          96.74000000000001,
          96.85000000000001,
          96.97,
          97.33000000000001,
          97.56,
          97.50999999999999,
          97.58,
          97.6,
          97.65
         ]
        },
        {
         "name": "DemonSGDM",
         "type": "scatter",
         "x": [
          0,
          1,
          2,
          3,
          4,
          5,
          6,
          7,
          8,
          9,
          10,
          11,
          12,
          13,
          14,
          15,
          16,
          17,
          18,
          19
         ],
         "y": [
          86.00999999999999,
          89.5,
          90.7,
          91.35,
          91.74,
          92.09,
          92.47999999999999,
          92.67,
          92.9,
          93.12,
          93.34,
          93.44,
          93.55,
          93.71000000000001,
          93.73,
          93.8,
          93.87,
          93.92,
          93.95,
          93.97
         ]
        },
        {
         "name": "Nesterov Momentum",
         "type": "scatter",
         "x": [
          0,
          1,
          2,
          3,
          4,
          5,
          6,
          7,
          8,
          9,
          10,
          11,
          12,
          13,
          14,
          15,
          16,
          17,
          18,
          19
         ],
         "y": [
          61.809999999999995,
          78.41,
          85.2,
          88.92,
          93.25,
          94.82000000000001,
          95.88,
          96.41999999999999,
          96.69,
          96.84,
          96.99,
          97.11,
          97.06,
          97.05,
          97.25,
          97.39,
          97.50999999999999,
          97.54,
          97.7,
          97.72999999999999
         ]
        },
        {
         "name": "Demon Nesterov",
         "type": "scatter",
         "x": [
          0,
          1,
          2,
          3,
          4,
          5,
          6,
          7,
          8,
          9,
          10,
          11,
          12,
          13,
          14,
          15,
          16,
          17,
          18,
          19
         ],
         "y": [
          86.08,
          89.52,
          90.74,
          91.32000000000001,
          91.74,
          92.06,
          92.43,
          92.7,
          92.94,
          93.11,
          93.36,
          93.41000000000001,
          93.54,
          93.69,
          93.75,
          93.81,
          93.87,
          93.93,
          93.96,
          93.99
         ]
        },
        {
         "name": "Adagrad",
         "type": "scatter",
         "x": [
          0,
          1,
          2,
          3,
          4,
          5,
          6,
          7,
          8,
          9,
          10,
          11,
          12,
          13,
          14,
          15,
          16,
          17,
          18,
          19
         ],
         "y": [
          89.16,
          90.55,
          91.32000000000001,
          91.75,
          92.08,
          92.31,
          92.54,
          92.75,
          92.89,
          93.07,
          93.28,
          93.39,
          93.60000000000001,
          93.69,
          93.81,
          93.88,
          94.02000000000001,
          94.07,
          94.1,
          94.19999999999999
         ]
        },
        {
         "name": "Adadelta",
         "type": "scatter",
         "x": [
          0,
          1,
          2,
          3,
          4,
          5,
          6,
          7,
          8,
          9,
          10,
          11,
          12,
          13,
          14,
          15,
          16,
          17,
          18,
          19
         ],
         "y": [
          92.02,
          93.67,
          94.87,
          95.47,
          95.94,
          96.28,
          96.61,
          96.78,
          96.99,
          97.09,
          97.22,
          97.26,
          97.31,
          97.42,
          97.45,
          97.53,
          97.59,
          97.61,
          97.61999999999999,
          97.61
         ]
        },
        {
         "name": "RMSprop",
         "type": "scatter",
         "x": [
          0,
          1,
          2,
          3,
          4,
          5,
          6,
          7,
          8,
          9,
          10,
          11,
          12,
          13,
          14,
          15,
          16,
          17,
          18,
          19
         ],
         "y": [
          93.83,
          95.53,
          96,
          96.47,
          96.89,
          97.19,
          97.39999999999999,
          97.35000000000001,
          97.42,
          97.54,
          97.39,
          97.35000000000001,
          97.43,
          97.38,
          97.38,
          97.32,
          97.61,
          97.58,
          97.67,
          97.74000000000001
         ]
        },
        {
         "name": "Adam",
         "type": "scatter",
         "x": [
          0,
          1,
          2,
          3,
          4,
          5,
          6,
          7,
          8,
          9,
          10,
          11,
          12,
          13,
          14,
          15,
          16,
          17,
          18,
          19
         ],
         "y": [
          94.15,
          95.71,
          96.46000000000001,
          96.72,
          96.91,
          97.06,
          97.18,
          97.24000000000001,
          97.26,
          97.27,
          97.35000000000001,
          97.32,
          97.46000000000001,
          97.52,
          97.55,
          97.57000000000001,
          97.63,
          97.59,
          97.67,
          97.65
         ]
        },
        {
         "name": "Adamax",
         "type": "scatter",
         "x": [
          0,
          1,
          2,
          3,
          4,
          5,
          6,
          7,
          8,
          9,
          10,
          11,
          12,
          13,
          14,
          15,
          16,
          17,
          18,
          19
         ],
         "y": [
          87.3,
          90.56,
          91.59,
          92.35,
          92.99,
          93.47999999999999,
          93.81,
          94.04,
          94.36,
          94.62,
          94.87,
          95.07,
          95.21,
          95.36,
          95.55,
          95.69,
          95.81,
          95.86,
          95.96000000000001,
          95.98
         ]
        },
        {
         "name": "AdamW",
         "type": "scatter",
         "x": [
          0,
          1,
          2,
          3,
          4,
          5,
          6,
          7,
          8,
          9,
          10,
          11,
          12,
          13,
          14,
          15,
          16,
          17,
          18,
          19
         ],
         "y": [
          94.31,
          95.62,
          96.44,
          96.81,
          97,
          97.07000000000001,
          97.17,
          97.23,
          97.27,
          97.23,
          97.1,
          96.93,
          97.09,
          97.14,
          97.44,
          97.44,
          97.56,
          97.64,
          97.64,
          97.7
         ]
        },
        {
         "name": "DemonAdam",
         "type": "scatter",
         "x": [
          0,
          1,
          2,
          3,
          4,
          5,
          6,
          7,
          8,
          9,
          10,
          11,
          12,
          13,
          14,
          15,
          16,
          17,
          18,
          19
         ],
         "y": [
          94.27,
          95.49,
          96.47,
          96.78999999999999,
          96.89999999999999,
          97.03,
          97.21,
          97.25,
          97.38,
          97.44,
          97.50999999999999,
          97.46000000000001,
          97.48,
          97.50999999999999,
          97.59,
          97.58,
          97.63,
          97.58,
          97.65,
          97.46000000000001
         ]
        },
        {
         "name": "QHAdam",
         "type": "scatter",
         "x": [
          0,
          1,
          2,
          3,
          4,
          5,
          6,
          7,
          8,
          9,
          10,
          11,
          12,
          13,
          14,
          15,
          16,
          17,
          18,
          19
         ],
         "y": [
          94.78999999999999,
          96,
          96.55,
          96.89,
          97.06,
          97.18,
          97.21,
          97.25,
          97.36,
          97.37,
          97.43,
          97.43,
          97.44,
          97.55,
          97.53,
          97.57000000000001,
          97.55,
          97.55,
          97.66,
          97.65
         ]
        },
        {
         "name": "DemonAdamW",
         "type": "scatter",
         "x": [
          0,
          1,
          2,
          3,
          4,
          5,
          6,
          7,
          8,
          9,
          10,
          11,
          12,
          13,
          14,
          15,
          16,
          17,
          18,
          19
         ],
         "y": [
          94.42,
          95.5,
          96.52,
          96.88,
          97.11,
          97.21,
          97.37,
          97.39,
          97.47,
          97.47,
          97.49,
          97.53,
          97.52,
          97.48,
          97.52,
          97.56,
          97.57000000000001,
          97.53,
          97.46000000000001,
          96.76
         ]
        }
       ],
       "layout": {
        "template": {
         "data": {
          "bar": [
           {
            "error_x": {
             "color": "#2a3f5f"
            },
            "error_y": {
             "color": "#2a3f5f"
            },
            "marker": {
             "line": {
              "color": "#E5ECF6",
              "width": 0.5
             }
            },
            "type": "bar"
           }
          ],
          "barpolar": [
           {
            "marker": {
             "line": {
              "color": "#E5ECF6",
              "width": 0.5
             }
            },
            "type": "barpolar"
           }
          ],
          "carpet": [
           {
            "aaxis": {
             "endlinecolor": "#2a3f5f",
             "gridcolor": "white",
             "linecolor": "white",
             "minorgridcolor": "white",
             "startlinecolor": "#2a3f5f"
            },
            "baxis": {
             "endlinecolor": "#2a3f5f",
             "gridcolor": "white",
             "linecolor": "white",
             "minorgridcolor": "white",
             "startlinecolor": "#2a3f5f"
            },
            "type": "carpet"
           }
          ],
          "choropleth": [
           {
            "colorbar": {
             "outlinewidth": 0,
             "ticks": ""
            },
            "type": "choropleth"
           }
          ],
          "contour": [
           {
            "colorbar": {
             "outlinewidth": 0,
             "ticks": ""
            },
            "colorscale": [
             [
              0,
              "#0d0887"
             ],
             [
              0.1111111111111111,
              "#46039f"
             ],
             [
              0.2222222222222222,
              "#7201a8"
             ],
             [
              0.3333333333333333,
              "#9c179e"
             ],
             [
              0.4444444444444444,
              "#bd3786"
             ],
             [
              0.5555555555555556,
              "#d8576b"
             ],
             [
              0.6666666666666666,
              "#ed7953"
             ],
             [
              0.7777777777777778,
              "#fb9f3a"
             ],
             [
              0.8888888888888888,
              "#fdca26"
             ],
             [
              1,
              "#f0f921"
             ]
            ],
            "type": "contour"
           }
          ],
          "contourcarpet": [
           {
            "colorbar": {
             "outlinewidth": 0,
             "ticks": ""
            },
            "type": "contourcarpet"
           }
          ],
          "heatmap": [
           {
            "colorbar": {
             "outlinewidth": 0,
             "ticks": ""
            },
            "colorscale": [
             [
              0,
              "#0d0887"
             ],
             [
              0.1111111111111111,
              "#46039f"
             ],
             [
              0.2222222222222222,
              "#7201a8"
             ],
             [
              0.3333333333333333,
              "#9c179e"
             ],
             [
              0.4444444444444444,
              "#bd3786"
             ],
             [
              0.5555555555555556,
              "#d8576b"
             ],
             [
              0.6666666666666666,
              "#ed7953"
             ],
             [
              0.7777777777777778,
              "#fb9f3a"
             ],
             [
              0.8888888888888888,
              "#fdca26"
             ],
             [
              1,
              "#f0f921"
             ]
            ],
            "type": "heatmap"
           }
          ],
          "heatmapgl": [
           {
            "colorbar": {
             "outlinewidth": 0,
             "ticks": ""
            },
            "colorscale": [
             [
              0,
              "#0d0887"
             ],
             [
              0.1111111111111111,
              "#46039f"
             ],
             [
              0.2222222222222222,
              "#7201a8"
             ],
             [
              0.3333333333333333,
              "#9c179e"
             ],
             [
              0.4444444444444444,
              "#bd3786"
             ],
             [
              0.5555555555555556,
              "#d8576b"
             ],
             [
              0.6666666666666666,
              "#ed7953"
             ],
             [
              0.7777777777777778,
              "#fb9f3a"
             ],
             [
              0.8888888888888888,
              "#fdca26"
             ],
             [
              1,
              "#f0f921"
             ]
            ],
            "type": "heatmapgl"
           }
          ],
          "histogram": [
           {
            "marker": {
             "colorbar": {
              "outlinewidth": 0,
              "ticks": ""
             }
            },
            "type": "histogram"
           }
          ],
          "histogram2d": [
           {
            "colorbar": {
             "outlinewidth": 0,
             "ticks": ""
            },
            "colorscale": [
             [
              0,
              "#0d0887"
             ],
             [
              0.1111111111111111,
              "#46039f"
             ],
             [
              0.2222222222222222,
              "#7201a8"
             ],
             [
              0.3333333333333333,
              "#9c179e"
             ],
             [
              0.4444444444444444,
              "#bd3786"
             ],
             [
              0.5555555555555556,
              "#d8576b"
             ],
             [
              0.6666666666666666,
              "#ed7953"
             ],
             [
              0.7777777777777778,
              "#fb9f3a"
             ],
             [
              0.8888888888888888,
              "#fdca26"
             ],
             [
              1,
              "#f0f921"
             ]
            ],
            "type": "histogram2d"
           }
          ],
          "histogram2dcontour": [
           {
            "colorbar": {
             "outlinewidth": 0,
             "ticks": ""
            },
            "colorscale": [
             [
              0,
              "#0d0887"
             ],
             [
              0.1111111111111111,
              "#46039f"
             ],
             [
              0.2222222222222222,
              "#7201a8"
             ],
             [
              0.3333333333333333,
              "#9c179e"
             ],
             [
              0.4444444444444444,
              "#bd3786"
             ],
             [
              0.5555555555555556,
              "#d8576b"
             ],
             [
              0.6666666666666666,
              "#ed7953"
             ],
             [
              0.7777777777777778,
              "#fb9f3a"
             ],
             [
              0.8888888888888888,
              "#fdca26"
             ],
             [
              1,
              "#f0f921"
             ]
            ],
            "type": "histogram2dcontour"
           }
          ],
          "mesh3d": [
           {
            "colorbar": {
             "outlinewidth": 0,
             "ticks": ""
            },
            "type": "mesh3d"
           }
          ],
          "parcoords": [
           {
            "line": {
             "colorbar": {
              "outlinewidth": 0,
              "ticks": ""
             }
            },
            "type": "parcoords"
           }
          ],
          "pie": [
           {
            "automargin": true,
            "type": "pie"
           }
          ],
          "scatter": [
           {
            "marker": {
             "colorbar": {
              "outlinewidth": 0,
              "ticks": ""
             }
            },
            "type": "scatter"
           }
          ],
          "scatter3d": [
           {
            "line": {
             "colorbar": {
              "outlinewidth": 0,
              "ticks": ""
             }
            },
            "marker": {
             "colorbar": {
              "outlinewidth": 0,
              "ticks": ""
             }
            },
            "type": "scatter3d"
           }
          ],
          "scattercarpet": [
           {
            "marker": {
             "colorbar": {
              "outlinewidth": 0,
              "ticks": ""
             }
            },
            "type": "scattercarpet"
           }
          ],
          "scattergeo": [
           {
            "marker": {
             "colorbar": {
              "outlinewidth": 0,
              "ticks": ""
             }
            },
            "type": "scattergeo"
           }
          ],
          "scattergl": [
           {
            "marker": {
             "colorbar": {
              "outlinewidth": 0,
              "ticks": ""
             }
            },
            "type": "scattergl"
           }
          ],
          "scattermapbox": [
           {
            "marker": {
             "colorbar": {
              "outlinewidth": 0,
              "ticks": ""
             }
            },
            "type": "scattermapbox"
           }
          ],
          "scatterpolar": [
           {
            "marker": {
             "colorbar": {
              "outlinewidth": 0,
              "ticks": ""
             }
            },
            "type": "scatterpolar"
           }
          ],
          "scatterpolargl": [
           {
            "marker": {
             "colorbar": {
              "outlinewidth": 0,
              "ticks": ""
             }
            },
            "type": "scatterpolargl"
           }
          ],
          "scatterternary": [
           {
            "marker": {
             "colorbar": {
              "outlinewidth": 0,
              "ticks": ""
             }
            },
            "type": "scatterternary"
           }
          ],
          "surface": [
           {
            "colorbar": {
             "outlinewidth": 0,
             "ticks": ""
            },
            "colorscale": [
             [
              0,
              "#0d0887"
             ],
             [
              0.1111111111111111,
              "#46039f"
             ],
             [
              0.2222222222222222,
              "#7201a8"
             ],
             [
              0.3333333333333333,
              "#9c179e"
             ],
             [
              0.4444444444444444,
              "#bd3786"
             ],
             [
              0.5555555555555556,
              "#d8576b"
             ],
             [
              0.6666666666666666,
              "#ed7953"
             ],
             [
              0.7777777777777778,
              "#fb9f3a"
             ],
             [
              0.8888888888888888,
              "#fdca26"
             ],
             [
              1,
              "#f0f921"
             ]
            ],
            "type": "surface"
           }
          ],
          "table": [
           {
            "cells": {
             "fill": {
              "color": "#EBF0F8"
             },
             "line": {
              "color": "white"
             }
            },
            "header": {
             "fill": {
              "color": "#C8D4E3"
             },
             "line": {
              "color": "white"
             }
            },
            "type": "table"
           }
          ]
         },
         "layout": {
          "annotationdefaults": {
           "arrowcolor": "#2a3f5f",
           "arrowhead": 0,
           "arrowwidth": 1
          },
          "coloraxis": {
           "colorbar": {
            "outlinewidth": 0,
            "ticks": ""
           }
          },
          "colorscale": {
           "diverging": [
            [
             0,
             "#8e0152"
            ],
            [
             0.1,
             "#c51b7d"
            ],
            [
             0.2,
             "#de77ae"
            ],
            [
             0.3,
             "#f1b6da"
            ],
            [
             0.4,
             "#fde0ef"
            ],
            [
             0.5,
             "#f7f7f7"
            ],
            [
             0.6,
             "#e6f5d0"
            ],
            [
             0.7,
             "#b8e186"
            ],
            [
             0.8,
             "#7fbc41"
            ],
            [
             0.9,
             "#4d9221"
            ],
            [
             1,
             "#276419"
            ]
           ],
           "sequential": [
            [
             0,
             "#0d0887"
            ],
            [
             0.1111111111111111,
             "#46039f"
            ],
            [
             0.2222222222222222,
             "#7201a8"
            ],
            [
             0.3333333333333333,
             "#9c179e"
            ],
            [
             0.4444444444444444,
             "#bd3786"
            ],
            [
             0.5555555555555556,
             "#d8576b"
            ],
            [
             0.6666666666666666,
             "#ed7953"
            ],
            [
             0.7777777777777778,
             "#fb9f3a"
            ],
            [
             0.8888888888888888,
             "#fdca26"
            ],
            [
             1,
             "#f0f921"
            ]
           ],
           "sequentialminus": [
            [
             0,
             "#0d0887"
            ],
            [
             0.1111111111111111,
             "#46039f"
            ],
            [
             0.2222222222222222,
             "#7201a8"
            ],
            [
             0.3333333333333333,
             "#9c179e"
            ],
            [
             0.4444444444444444,
             "#bd3786"
            ],
            [
             0.5555555555555556,
             "#d8576b"
            ],
            [
             0.6666666666666666,
             "#ed7953"
            ],
            [
             0.7777777777777778,
             "#fb9f3a"
            ],
            [
             0.8888888888888888,
             "#fdca26"
            ],
            [
             1,
             "#f0f921"
            ]
           ]
          },
          "colorway": [
           "#636efa",
           "#EF553B",
           "#00cc96",
           "#ab63fa",
           "#FFA15A",
           "#19d3f3",
           "#FF6692",
           "#B6E880",
           "#FF97FF",
           "#FECB52"
          ],
          "font": {
           "color": "#2a3f5f"
          },
          "geo": {
           "bgcolor": "white",
           "lakecolor": "white",
           "landcolor": "#E5ECF6",
           "showlakes": true,
           "showland": true,
           "subunitcolor": "white"
          },
          "hoverlabel": {
           "align": "left"
          },
          "hovermode": "closest",
          "mapbox": {
           "style": "light"
          },
          "paper_bgcolor": "white",
          "plot_bgcolor": "#E5ECF6",
          "polar": {
           "angularaxis": {
            "gridcolor": "white",
            "linecolor": "white",
            "ticks": ""
           },
           "bgcolor": "#E5ECF6",
           "radialaxis": {
            "gridcolor": "white",
            "linecolor": "white",
            "ticks": ""
           }
          },
          "scene": {
           "xaxis": {
            "backgroundcolor": "#E5ECF6",
            "gridcolor": "white",
            "gridwidth": 2,
            "linecolor": "white",
            "showbackground": true,
            "ticks": "",
            "zerolinecolor": "white"
           },
           "yaxis": {
            "backgroundcolor": "#E5ECF6",
            "gridcolor": "white",
            "gridwidth": 2,
            "linecolor": "white",
            "showbackground": true,
            "ticks": "",
            "zerolinecolor": "white"
           },
           "zaxis": {
            "backgroundcolor": "#E5ECF6",
            "gridcolor": "white",
            "gridwidth": 2,
            "linecolor": "white",
            "showbackground": true,
            "ticks": "",
            "zerolinecolor": "white"
           }
          },
          "shapedefaults": {
           "line": {
            "color": "#2a3f5f"
           }
          },
          "ternary": {
           "aaxis": {
            "gridcolor": "white",
            "linecolor": "white",
            "ticks": ""
           },
           "baxis": {
            "gridcolor": "white",
            "linecolor": "white",
            "ticks": ""
           },
           "bgcolor": "#E5ECF6",
           "caxis": {
            "gridcolor": "white",
            "linecolor": "white",
            "ticks": ""
           }
          },
          "title": {
           "x": 0.05
          },
          "xaxis": {
           "automargin": true,
           "gridcolor": "white",
           "linecolor": "white",
           "ticks": "",
           "title": {
            "standoff": 15
           },
           "zerolinecolor": "white",
           "zerolinewidth": 2
          },
          "yaxis": {
           "automargin": true,
           "gridcolor": "white",
           "linecolor": "white",
           "ticks": "",
           "title": {
            "standoff": 15
           },
           "zerolinecolor": "white",
           "zerolinewidth": 2
          }
         }
        }
       }
      },
      "text/html": [
       "<div>                            <div id=\"d7d6d817-baae-4e82-9427-c7e673e18df7\" class=\"plotly-graph-div\" style=\"height:525px; width:100%;\"></div>            <script type=\"text/javascript\">                require([\"plotly\"], function(Plotly) {                    window.PLOTLYENV=window.PLOTLYENV || {};                                    if (document.getElementById(\"d7d6d817-baae-4e82-9427-c7e673e18df7\")) {                    Plotly.newPlot(                        \"d7d6d817-baae-4e82-9427-c7e673e18df7\",                        [{\"name\": \"Minibatch GD\", \"type\": \"scatter\", \"x\": [0, 1, 2, 3, 4, 5, 6, 7, 8, 9, 10, 11, 12, 13, 14, 15, 16, 17, 18, 19], \"y\": [43.63, 61.86000000000001, 70.96000000000001, 76.83, 80.05, 82.41000000000001, 84.07, 85.34, 86.32, 86.89, 87.41, 87.92999999999999, 88.37, 88.69, 89.03, 89.21, 89.38000000000001, 89.53999999999999, 89.73, 89.92]}, {\"name\": \"Momentum\", \"type\": \"scatter\", \"x\": [0, 1, 2, 3, 4, 5, 6, 7, 8, 9, 10, 11, 12, 13, 14, 15, 16, 17, 18, 19], \"y\": [61.78, 78.38000000000001, 85.24000000000001, 88.99000000000001, 93.05, 94.69999999999999, 96.0, 96.34, 96.71, 96.84, 96.81, 96.74000000000001, 96.85000000000001, 96.97, 97.33000000000001, 97.56, 97.50999999999999, 97.58, 97.6, 97.65]}, {\"name\": \"DemonSGDM\", \"type\": \"scatter\", \"x\": [0, 1, 2, 3, 4, 5, 6, 7, 8, 9, 10, 11, 12, 13, 14, 15, 16, 17, 18, 19], \"y\": [86.00999999999999, 89.5, 90.7, 91.35, 91.74, 92.09, 92.47999999999999, 92.67, 92.9, 93.12, 93.34, 93.44, 93.55, 93.71000000000001, 93.73, 93.8, 93.87, 93.92, 93.95, 93.97]}, {\"name\": \"Nesterov Momentum\", \"type\": \"scatter\", \"x\": [0, 1, 2, 3, 4, 5, 6, 7, 8, 9, 10, 11, 12, 13, 14, 15, 16, 17, 18, 19], \"y\": [61.809999999999995, 78.41, 85.2, 88.92, 93.25, 94.82000000000001, 95.88, 96.41999999999999, 96.69, 96.84, 96.99, 97.11, 97.06, 97.05, 97.25, 97.39, 97.50999999999999, 97.54, 97.7, 97.72999999999999]}, {\"name\": \"Demon Nesterov\", \"type\": \"scatter\", \"x\": [0, 1, 2, 3, 4, 5, 6, 7, 8, 9, 10, 11, 12, 13, 14, 15, 16, 17, 18, 19], \"y\": [86.08, 89.52, 90.74, 91.32000000000001, 91.74, 92.06, 92.43, 92.7, 92.94, 93.11, 93.36, 93.41000000000001, 93.54, 93.69, 93.75, 93.81, 93.87, 93.93, 93.96, 93.99]}, {\"name\": \"Adagrad\", \"type\": \"scatter\", \"x\": [0, 1, 2, 3, 4, 5, 6, 7, 8, 9, 10, 11, 12, 13, 14, 15, 16, 17, 18, 19], \"y\": [89.16, 90.55, 91.32000000000001, 91.75, 92.08, 92.31, 92.54, 92.75, 92.89, 93.07, 93.28, 93.39, 93.60000000000001, 93.69, 93.81, 93.88, 94.02000000000001, 94.07, 94.1, 94.19999999999999]}, {\"name\": \"Adadelta\", \"type\": \"scatter\", \"x\": [0, 1, 2, 3, 4, 5, 6, 7, 8, 9, 10, 11, 12, 13, 14, 15, 16, 17, 18, 19], \"y\": [92.02, 93.67, 94.87, 95.47, 95.94, 96.28, 96.61, 96.78, 96.99, 97.09, 97.22, 97.26, 97.31, 97.42, 97.45, 97.53, 97.59, 97.61, 97.61999999999999, 97.61]}, {\"name\": \"RMSprop\", \"type\": \"scatter\", \"x\": [0, 1, 2, 3, 4, 5, 6, 7, 8, 9, 10, 11, 12, 13, 14, 15, 16, 17, 18, 19], \"y\": [93.83, 95.53, 96.0, 96.47, 96.89, 97.19, 97.39999999999999, 97.35000000000001, 97.42, 97.54, 97.39, 97.35000000000001, 97.43, 97.38, 97.38, 97.32, 97.61, 97.58, 97.67, 97.74000000000001]}, {\"name\": \"Adam\", \"type\": \"scatter\", \"x\": [0, 1, 2, 3, 4, 5, 6, 7, 8, 9, 10, 11, 12, 13, 14, 15, 16, 17, 18, 19], \"y\": [94.15, 95.71, 96.46000000000001, 96.72, 96.91, 97.06, 97.18, 97.24000000000001, 97.26, 97.27, 97.35000000000001, 97.32, 97.46000000000001, 97.52, 97.55, 97.57000000000001, 97.63, 97.59, 97.67, 97.65]}, {\"name\": \"Adamax\", \"type\": \"scatter\", \"x\": [0, 1, 2, 3, 4, 5, 6, 7, 8, 9, 10, 11, 12, 13, 14, 15, 16, 17, 18, 19], \"y\": [87.3, 90.56, 91.59, 92.35, 92.99, 93.47999999999999, 93.81, 94.04, 94.36, 94.62, 94.87, 95.07, 95.21, 95.36, 95.55, 95.69, 95.81, 95.86, 95.96000000000001, 95.98]}, {\"name\": \"AdamW\", \"type\": \"scatter\", \"x\": [0, 1, 2, 3, 4, 5, 6, 7, 8, 9, 10, 11, 12, 13, 14, 15, 16, 17, 18, 19], \"y\": [94.31, 95.62, 96.44, 96.81, 97.0, 97.07000000000001, 97.17, 97.23, 97.27, 97.23, 97.1, 96.93, 97.09, 97.14, 97.44, 97.44, 97.56, 97.64, 97.64, 97.7]}, {\"name\": \"DemonAdam\", \"type\": \"scatter\", \"x\": [0, 1, 2, 3, 4, 5, 6, 7, 8, 9, 10, 11, 12, 13, 14, 15, 16, 17, 18, 19], \"y\": [94.27, 95.49, 96.47, 96.78999999999999, 96.89999999999999, 97.03, 97.21, 97.25, 97.38, 97.44, 97.50999999999999, 97.46000000000001, 97.48, 97.50999999999999, 97.59, 97.58, 97.63, 97.58, 97.65, 97.46000000000001]}, {\"name\": \"QHAdam\", \"type\": \"scatter\", \"x\": [0, 1, 2, 3, 4, 5, 6, 7, 8, 9, 10, 11, 12, 13, 14, 15, 16, 17, 18, 19], \"y\": [94.78999999999999, 96.0, 96.55, 96.89, 97.06, 97.18, 97.21, 97.25, 97.36, 97.37, 97.43, 97.43, 97.44, 97.55, 97.53, 97.57000000000001, 97.55, 97.55, 97.66, 97.65]}, {\"name\": \"DemonAdamW\", \"type\": \"scatter\", \"x\": [0, 1, 2, 3, 4, 5, 6, 7, 8, 9, 10, 11, 12, 13, 14, 15, 16, 17, 18, 19], \"y\": [94.42, 95.5, 96.52, 96.88, 97.11, 97.21, 97.37, 97.39, 97.47, 97.47, 97.49, 97.53, 97.52, 97.48, 97.52, 97.56, 97.57000000000001, 97.53, 97.46000000000001, 96.76]}],                        {\"template\": {\"data\": {\"bar\": [{\"error_x\": {\"color\": \"#2a3f5f\"}, \"error_y\": {\"color\": \"#2a3f5f\"}, \"marker\": {\"line\": {\"color\": \"#E5ECF6\", \"width\": 0.5}}, \"type\": \"bar\"}], \"barpolar\": [{\"marker\": {\"line\": {\"color\": \"#E5ECF6\", \"width\": 0.5}}, \"type\": \"barpolar\"}], \"carpet\": [{\"aaxis\": {\"endlinecolor\": \"#2a3f5f\", \"gridcolor\": \"white\", \"linecolor\": \"white\", \"minorgridcolor\": \"white\", \"startlinecolor\": \"#2a3f5f\"}, \"baxis\": {\"endlinecolor\": \"#2a3f5f\", \"gridcolor\": \"white\", \"linecolor\": \"white\", \"minorgridcolor\": \"white\", \"startlinecolor\": \"#2a3f5f\"}, \"type\": \"carpet\"}], \"choropleth\": [{\"colorbar\": {\"outlinewidth\": 0, \"ticks\": \"\"}, \"type\": \"choropleth\"}], \"contour\": [{\"colorbar\": {\"outlinewidth\": 0, \"ticks\": \"\"}, \"colorscale\": [[0.0, \"#0d0887\"], [0.1111111111111111, \"#46039f\"], [0.2222222222222222, \"#7201a8\"], [0.3333333333333333, \"#9c179e\"], [0.4444444444444444, \"#bd3786\"], [0.5555555555555556, \"#d8576b\"], [0.6666666666666666, \"#ed7953\"], [0.7777777777777778, \"#fb9f3a\"], [0.8888888888888888, \"#fdca26\"], [1.0, \"#f0f921\"]], \"type\": \"contour\"}], \"contourcarpet\": [{\"colorbar\": {\"outlinewidth\": 0, \"ticks\": \"\"}, \"type\": \"contourcarpet\"}], \"heatmap\": [{\"colorbar\": {\"outlinewidth\": 0, \"ticks\": \"\"}, \"colorscale\": [[0.0, \"#0d0887\"], [0.1111111111111111, \"#46039f\"], [0.2222222222222222, \"#7201a8\"], [0.3333333333333333, \"#9c179e\"], [0.4444444444444444, \"#bd3786\"], [0.5555555555555556, \"#d8576b\"], [0.6666666666666666, \"#ed7953\"], [0.7777777777777778, \"#fb9f3a\"], [0.8888888888888888, \"#fdca26\"], [1.0, \"#f0f921\"]], \"type\": \"heatmap\"}], \"heatmapgl\": [{\"colorbar\": {\"outlinewidth\": 0, \"ticks\": \"\"}, \"colorscale\": [[0.0, \"#0d0887\"], [0.1111111111111111, \"#46039f\"], [0.2222222222222222, \"#7201a8\"], [0.3333333333333333, \"#9c179e\"], [0.4444444444444444, \"#bd3786\"], [0.5555555555555556, \"#d8576b\"], [0.6666666666666666, \"#ed7953\"], [0.7777777777777778, \"#fb9f3a\"], [0.8888888888888888, \"#fdca26\"], [1.0, \"#f0f921\"]], \"type\": \"heatmapgl\"}], \"histogram\": [{\"marker\": {\"colorbar\": {\"outlinewidth\": 0, \"ticks\": \"\"}}, \"type\": \"histogram\"}], \"histogram2d\": [{\"colorbar\": {\"outlinewidth\": 0, \"ticks\": \"\"}, \"colorscale\": [[0.0, \"#0d0887\"], [0.1111111111111111, \"#46039f\"], [0.2222222222222222, \"#7201a8\"], [0.3333333333333333, \"#9c179e\"], [0.4444444444444444, \"#bd3786\"], [0.5555555555555556, \"#d8576b\"], [0.6666666666666666, \"#ed7953\"], [0.7777777777777778, \"#fb9f3a\"], [0.8888888888888888, \"#fdca26\"], [1.0, \"#f0f921\"]], \"type\": \"histogram2d\"}], \"histogram2dcontour\": [{\"colorbar\": {\"outlinewidth\": 0, \"ticks\": \"\"}, \"colorscale\": [[0.0, \"#0d0887\"], [0.1111111111111111, \"#46039f\"], [0.2222222222222222, \"#7201a8\"], [0.3333333333333333, \"#9c179e\"], [0.4444444444444444, \"#bd3786\"], [0.5555555555555556, \"#d8576b\"], [0.6666666666666666, \"#ed7953\"], [0.7777777777777778, \"#fb9f3a\"], [0.8888888888888888, \"#fdca26\"], [1.0, \"#f0f921\"]], \"type\": \"histogram2dcontour\"}], \"mesh3d\": [{\"colorbar\": {\"outlinewidth\": 0, \"ticks\": \"\"}, \"type\": \"mesh3d\"}], \"parcoords\": [{\"line\": {\"colorbar\": {\"outlinewidth\": 0, \"ticks\": \"\"}}, \"type\": \"parcoords\"}], \"pie\": [{\"automargin\": true, \"type\": \"pie\"}], \"scatter\": [{\"marker\": {\"colorbar\": {\"outlinewidth\": 0, \"ticks\": \"\"}}, \"type\": \"scatter\"}], \"scatter3d\": [{\"line\": {\"colorbar\": {\"outlinewidth\": 0, \"ticks\": \"\"}}, \"marker\": {\"colorbar\": {\"outlinewidth\": 0, \"ticks\": \"\"}}, \"type\": \"scatter3d\"}], \"scattercarpet\": [{\"marker\": {\"colorbar\": {\"outlinewidth\": 0, \"ticks\": \"\"}}, \"type\": \"scattercarpet\"}], \"scattergeo\": [{\"marker\": {\"colorbar\": {\"outlinewidth\": 0, \"ticks\": \"\"}}, \"type\": \"scattergeo\"}], \"scattergl\": [{\"marker\": {\"colorbar\": {\"outlinewidth\": 0, \"ticks\": \"\"}}, \"type\": \"scattergl\"}], \"scattermapbox\": [{\"marker\": {\"colorbar\": {\"outlinewidth\": 0, \"ticks\": \"\"}}, \"type\": \"scattermapbox\"}], \"scatterpolar\": [{\"marker\": {\"colorbar\": {\"outlinewidth\": 0, \"ticks\": \"\"}}, \"type\": \"scatterpolar\"}], \"scatterpolargl\": [{\"marker\": {\"colorbar\": {\"outlinewidth\": 0, \"ticks\": \"\"}}, \"type\": \"scatterpolargl\"}], \"scatterternary\": [{\"marker\": {\"colorbar\": {\"outlinewidth\": 0, \"ticks\": \"\"}}, \"type\": \"scatterternary\"}], \"surface\": [{\"colorbar\": {\"outlinewidth\": 0, \"ticks\": \"\"}, \"colorscale\": [[0.0, \"#0d0887\"], [0.1111111111111111, \"#46039f\"], [0.2222222222222222, \"#7201a8\"], [0.3333333333333333, \"#9c179e\"], [0.4444444444444444, \"#bd3786\"], [0.5555555555555556, \"#d8576b\"], [0.6666666666666666, \"#ed7953\"], [0.7777777777777778, \"#fb9f3a\"], [0.8888888888888888, \"#fdca26\"], [1.0, \"#f0f921\"]], \"type\": \"surface\"}], \"table\": [{\"cells\": {\"fill\": {\"color\": \"#EBF0F8\"}, \"line\": {\"color\": \"white\"}}, \"header\": {\"fill\": {\"color\": \"#C8D4E3\"}, \"line\": {\"color\": \"white\"}}, \"type\": \"table\"}]}, \"layout\": {\"annotationdefaults\": {\"arrowcolor\": \"#2a3f5f\", \"arrowhead\": 0, \"arrowwidth\": 1}, \"coloraxis\": {\"colorbar\": {\"outlinewidth\": 0, \"ticks\": \"\"}}, \"colorscale\": {\"diverging\": [[0, \"#8e0152\"], [0.1, \"#c51b7d\"], [0.2, \"#de77ae\"], [0.3, \"#f1b6da\"], [0.4, \"#fde0ef\"], [0.5, \"#f7f7f7\"], [0.6, \"#e6f5d0\"], [0.7, \"#b8e186\"], [0.8, \"#7fbc41\"], [0.9, \"#4d9221\"], [1, \"#276419\"]], \"sequential\": [[0.0, \"#0d0887\"], [0.1111111111111111, \"#46039f\"], [0.2222222222222222, \"#7201a8\"], [0.3333333333333333, \"#9c179e\"], [0.4444444444444444, \"#bd3786\"], [0.5555555555555556, \"#d8576b\"], [0.6666666666666666, \"#ed7953\"], [0.7777777777777778, \"#fb9f3a\"], [0.8888888888888888, \"#fdca26\"], [1.0, \"#f0f921\"]], \"sequentialminus\": [[0.0, \"#0d0887\"], [0.1111111111111111, \"#46039f\"], [0.2222222222222222, \"#7201a8\"], [0.3333333333333333, \"#9c179e\"], [0.4444444444444444, \"#bd3786\"], [0.5555555555555556, \"#d8576b\"], [0.6666666666666666, \"#ed7953\"], [0.7777777777777778, \"#fb9f3a\"], [0.8888888888888888, \"#fdca26\"], [1.0, \"#f0f921\"]]}, \"colorway\": [\"#636efa\", \"#EF553B\", \"#00cc96\", \"#ab63fa\", \"#FFA15A\", \"#19d3f3\", \"#FF6692\", \"#B6E880\", \"#FF97FF\", \"#FECB52\"], \"font\": {\"color\": \"#2a3f5f\"}, \"geo\": {\"bgcolor\": \"white\", \"lakecolor\": \"white\", \"landcolor\": \"#E5ECF6\", \"showlakes\": true, \"showland\": true, \"subunitcolor\": \"white\"}, \"hoverlabel\": {\"align\": \"left\"}, \"hovermode\": \"closest\", \"mapbox\": {\"style\": \"light\"}, \"paper_bgcolor\": \"white\", \"plot_bgcolor\": \"#E5ECF6\", \"polar\": {\"angularaxis\": {\"gridcolor\": \"white\", \"linecolor\": \"white\", \"ticks\": \"\"}, \"bgcolor\": \"#E5ECF6\", \"radialaxis\": {\"gridcolor\": \"white\", \"linecolor\": \"white\", \"ticks\": \"\"}}, \"scene\": {\"xaxis\": {\"backgroundcolor\": \"#E5ECF6\", \"gridcolor\": \"white\", \"gridwidth\": 2, \"linecolor\": \"white\", \"showbackground\": true, \"ticks\": \"\", \"zerolinecolor\": \"white\"}, \"yaxis\": {\"backgroundcolor\": \"#E5ECF6\", \"gridcolor\": \"white\", \"gridwidth\": 2, \"linecolor\": \"white\", \"showbackground\": true, \"ticks\": \"\", \"zerolinecolor\": \"white\"}, \"zaxis\": {\"backgroundcolor\": \"#E5ECF6\", \"gridcolor\": \"white\", \"gridwidth\": 2, \"linecolor\": \"white\", \"showbackground\": true, \"ticks\": \"\", \"zerolinecolor\": \"white\"}}, \"shapedefaults\": {\"line\": {\"color\": \"#2a3f5f\"}}, \"ternary\": {\"aaxis\": {\"gridcolor\": \"white\", \"linecolor\": \"white\", \"ticks\": \"\"}, \"baxis\": {\"gridcolor\": \"white\", \"linecolor\": \"white\", \"ticks\": \"\"}, \"bgcolor\": \"#E5ECF6\", \"caxis\": {\"gridcolor\": \"white\", \"linecolor\": \"white\", \"ticks\": \"\"}}, \"title\": {\"x\": 0.05}, \"xaxis\": {\"automargin\": true, \"gridcolor\": \"white\", \"linecolor\": \"white\", \"ticks\": \"\", \"title\": {\"standoff\": 15}, \"zerolinecolor\": \"white\", \"zerolinewidth\": 2}, \"yaxis\": {\"automargin\": true, \"gridcolor\": \"white\", \"linecolor\": \"white\", \"ticks\": \"\", \"title\": {\"standoff\": 15}, \"zerolinecolor\": \"white\", \"zerolinewidth\": 2}}}},                        {\"responsive\": true}                    ).then(function(){\n",
       "                            \n",
       "var gd = document.getElementById('d7d6d817-baae-4e82-9427-c7e673e18df7');\n",
       "var x = new MutationObserver(function (mutations, observer) {{\n",
       "        var display = window.getComputedStyle(gd).display;\n",
       "        if (!display || display === 'none') {{\n",
       "            console.log([gd, 'removed!']);\n",
       "            Plotly.purge(gd);\n",
       "            observer.disconnect();\n",
       "        }}\n",
       "}});\n",
       "\n",
       "// Listen for the removal of the full notebook cells\n",
       "var notebookContainer = gd.closest('#notebook-container');\n",
       "if (notebookContainer) {{\n",
       "    x.observe(notebookContainer, {childList: true});\n",
       "}}\n",
       "\n",
       "// Listen for the clearing of the current output cell\n",
       "var outputEl = gd.closest('.output');\n",
       "if (outputEl) {{\n",
       "    x.observe(outputEl, {childList: true});\n",
       "}}\n",
       "\n",
       "                        })                };                });            </script>        </div>"
      ]
     },
     "metadata": {},
     "output_type": "display_data"
    }
   ],
   "source": [
    "fig = go.Figure()\n",
    "fig.add_trace(go.Scatter(x=num_epochs, y=vanilla['val_acc'], name='Minibatch GD'))\n",
    "fig.add_trace(go.Scatter(x=num_epochs, y=momentum['val_acc'], name='Momentum'))\n",
    "fig.add_trace(go.Scatter(x=num_epochs, y=DemonSGDM['val_acc'], name='DemonSGDM'))\n",
    "fig.add_trace(go.Scatter(x=num_epochs, y=nesterov['val_acc'], name='Nesterov Momentum'))\n",
    "fig.add_trace(go.Scatter(x=num_epochs, y=DemonNesterov['val_acc'], name='Demon Nesterov'))\n",
    "fig.add_trace(go.Scatter(x=num_epochs, y=adagrad['val_acc'], name='Adagrad'))\n",
    "fig.add_trace(go.Scatter(x=num_epochs, y=adadelta['val_acc'], name='Adadelta'))\n",
    "fig.add_trace(go.Scatter(x=num_epochs, y=RMSprop['val_acc'], name='RMSprop'))\n",
    "fig.add_trace(go.Scatter(x=num_epochs, y=Adam['val_acc'], name='Adam'))\n",
    "fig.add_trace(go.Scatter(x=num_epochs, y=Adamax['val_acc'], name='Adamax'))\n",
    "fig.add_trace(go.Scatter(x=num_epochs, y=AdamW['val_acc'], name='AdamW'))\n",
    "fig.add_trace(go.Scatter(x=num_epochs, y=DemonAdam['val_acc'], name='DemonAdam'))\n",
    "fig.add_trace(go.Scatter(x=num_epochs, y=QHAdam['val_acc'], name='QHAdam'))\n",
    "fig.add_trace(go.Scatter(x=num_epochs, y=DemonAdamW['val_acc'], name='DemonAdamW'))\n"
   ]
  },
  {
   "cell_type": "code",
   "execution_count": 177,
   "metadata": {},
   "outputs": [],
   "source": [
    "preds = model.forward(x_test)"
   ]
  },
  {
   "cell_type": "code",
   "execution_count": 178,
   "metadata": {},
   "outputs": [],
   "source": [
    "preds = np.argmax(preds, axis=1)"
   ]
  },
  {
   "cell_type": "code",
   "execution_count": 179,
   "metadata": {},
   "outputs": [],
   "source": [
    "acc = preds == np.argmax(y_test, axis=1)\n",
    "pred_bool = preds != np.argmax(y_test, axis=1)"
   ]
  },
  {
   "cell_type": "code",
   "execution_count": 180,
   "metadata": {},
   "outputs": [
    {
     "name": "stdout",
     "output_type": "stream",
     "text": [
      "accuracy=0.9676\n"
     ]
    }
   ],
   "source": [
    "accuracy = list(acc).count(True)/len(acc)\n",
    "print(f'{accuracy=}')"
   ]
  },
  {
   "cell_type": "code",
   "execution_count": 194,
   "metadata": {},
   "outputs": [
    {
     "name": "stdout",
     "output_type": "stream",
     "text": [
      "NN predicted: 4, Label: 6\n"
     ]
    },
    {
     "data": {
      "image/png": "[encoded data removed]",
      "text/plain": [
       "<Figure size 432x288 with 1 Axes>"
      ]
     },
     "metadata": {
      "needs_background": "light"
     },
     "output_type": "display_data"
    }
   ],
   "source": [
    "# Example of wrong prediction\n",
    "idx = np.random.choice(np.where(pred_bool==True)[0])\n",
    "\n",
    "plt.imshow(x_test[idx].reshape(28,28))\n",
    "print(f'NN predicted: {preds[idx]}, Label: {np.argmax(y_test[idx])}')"
   ]
  },
  {
   "cell_type": "code",
   "execution_count": null,
   "metadata": {},
   "outputs": [],
   "source": [
    "# can't fault the NN for that one "
   ]
  }
 ],
 "metadata": {
  "kernelspec": {
   "display_name": "Python 3",
   "language": "python",
   "name": "python3"
  },
  "language_info": {
   "codemirror_mode": {
    "name": "ipython",
    "version": 3
   },
   "file_extension": ".py",
   "mimetype": "text/x-python",
   "name": "python",
   "nbconvert_exporter": "python",
   "pygments_lexer": "ipython3",
   "version": "3.8.1"
  }
 },
 "nbformat": 4,
 "nbformat_minor": 4
}
