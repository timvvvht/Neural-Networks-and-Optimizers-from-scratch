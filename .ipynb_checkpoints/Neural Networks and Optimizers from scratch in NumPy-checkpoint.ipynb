{
 "cells": [
  {
   "cell_type": "code",
   "execution_count": 1,
   "metadata": {},
   "outputs": [],
   "source": [
    "import numpy as np\n",
    "import tensorflow.keras.datasets.mnist as mnist\n",
    "\n",
    "import matplotlib.pyplot as plt\n",
    "import plotly.graph_objs as go"
   ]
  },
  {
   "cell_type": "code",
   "execution_count": 2,
   "metadata": {},
   "outputs": [],
   "source": [
    "# Load data from tensorflow\n",
    "data = mnist.load_data(path='mnist.npz')"
   ]
  },
  {
   "cell_type": "code",
   "execution_count": 3,
   "metadata": {},
   "outputs": [],
   "source": [
    "(x_train, y_train), (x_test, y_test) = data"
   ]
  },
  {
   "cell_type": "code",
   "execution_count": 22,
   "metadata": {},
   "outputs": [
    {
     "data": {
      "text/plain": [
       "((60000, 28, 28), (60000,), (10000, 28, 28), (10000,))"
      ]
     },
     "execution_count": 22,
     "metadata": {},
     "output_type": "execute_result"
    }
   ],
   "source": [
    "x_train.shape, y_train.shape, x_test.shape, y_test.shape"
   ]
  },
  {
   "cell_type": "code",
   "execution_count": 23,
   "metadata": {},
   "outputs": [
    {
     "data": {
      "text/plain": [
       "<matplotlib.image.AxesImage at 0x1334b3f40>"
      ]
     },
     "execution_count": 23,
     "metadata": {},
     "output_type": "execute_result"
    },
    {
     "data": {
      "image/png": "[encoded data removed]",
      "text/plain": [
       "<Figure size 432x288 with 1 Axes>"
      ]
     },
     "metadata": {
      "needs_background": "light"
     },
     "output_type": "display_data"
    }
   ],
   "source": [
    "plt.imshow(x_train[0])"
   ]
  },
  {
   "cell_type": "code",
   "execution_count": 24,
   "metadata": {},
   "outputs": [
    {
     "name": "stdout",
     "output_type": "stream",
     "text": [
      "(60000, 784) (10000, 784)\n"
     ]
    }
   ],
   "source": [
    "# Preprocess data\n",
    "# Reshape (flatten)\n",
    "x_train = x_train.reshape(x_train.shape[0], -1)\n",
    "x_test = x_test.reshape(x_test.shape[0], -1)\n",
    "print(x_train.shape, x_test.shape)\n",
    "\n",
    "# Normalize data within {0,1} + dtype conversion\n",
    "x_train = np.array(x_train/255., dtype=np.float32)\n",
    "x_test = np.array(x_test/255., dtype=np.float32)"
   ]
  },
  {
   "cell_type": "code",
   "execution_count": 25,
   "metadata": {},
   "outputs": [],
   "source": [
    "# Function to convert labels to one-hot encodings\n",
    "def one_hot(Y):\n",
    "    num_labels = len(set(Y))\n",
    "    new_Y = []\n",
    "    for label in Y:\n",
    "        encoding = np.zeros(num_labels)\n",
    "        encoding[label] = 1.\n",
    "        new_Y.append(encoding)\n",
    "    return np.array(new_Y)"
   ]
  },
  {
   "cell_type": "code",
   "execution_count": 26,
   "metadata": {},
   "outputs": [],
   "source": [
    "y_train = one_hot(y_train)\n",
    "y_test = one_hot(y_test)\n",
    "y_train.shape, y_test.shape\n",
    "\n",
    "m = None"
   ]
  },
  {
   "cell_type": "code",
   "execution_count": 27,
   "metadata": {},
   "outputs": [],
   "source": [
    "# Helper functions\n",
    "\n",
    "def initialize_params(n_in, hidden_units):\n",
    "    params = dict()\n",
    "    np.random.seed(42)\n",
    "    params['W'] = np.random.randn(n_in, hidden_units) * np.sqrt(2/n_in) \n",
    "    np.random.seed(42)\n",
    "    params['b'] = np.zeros((1, hidden_units))\n",
    "    return params\n",
    "\n",
    "def sigmoid(z):\n",
    "    return 1 / (1 + np.exp(-z))\n",
    "\n",
    "def dsigmoid(z):\n",
    "    return sigmoid(z) * (1-sigmoid(z))\n",
    "\n",
    "def relu(z):\n",
    "    return np.maximum(0, z)\n",
    "\n",
    "def drelu(z):\n",
    "    return np.where(z<=0,0,1)\n",
    "\n",
    "def softmax(x):\n",
    "    return np.exp(x) / np.sum(np.exp(x), axis=1, keepdims=True)"
   ]
  },
  {
   "cell_type": "code",
   "execution_count": 28,
   "metadata": {},
   "outputs": [],
   "source": [
    "# Layer object to handle weights, biases, activation (if any) of a layer\n",
    "\n",
    "class Layer:\n",
    "    def __init__(self, hidden_units: int, activation:str=None):\n",
    "        self.hidden_units = hidden_units\n",
    "        self.activation = activation\n",
    "        self.W = None\n",
    "        self.b = None\n",
    "    \n",
    "    def forward(self, X):\n",
    "        self.input = np.array(X, copy=True)\n",
    "        if self.W is None:\n",
    "            params = initialize_params(self.input.shape[-1], self.hidden_units)\n",
    "            self.W = params['W']\n",
    "            self.b = params['b']\n",
    "        self.Z = X @ self.W + self.b\n",
    "        \n",
    "        if self.activation is not None:\n",
    "            if self.activation == 'relu':\n",
    "                self.A = np.maximum(0, self.Z)\n",
    "            if self.activation == 'softmax':\n",
    "                self.A = softmax(self.Z)\n",
    "            return self.A\n",
    "        return self.Z\n",
    "    \n",
    "    def backward(self, dZ):\n",
    "        self.dW = 1 / m * self.input.T @ dZ\n",
    "        self.db = 1 / m * np.sum(dZ, axis=0, keepdims=True)\n",
    "\n",
    "        assert self.dW.shape == self.W.shape\n",
    "        assert self.db.shape == self.b.shape\n",
    "        \n",
    "    def update(self, alpha):\n",
    "        self.W = self.W - alpha * self.dW\n",
    "        self.b = self.b - alpha * self.db\n",
    "\n",
    "    def __repr__(self):\n",
    "        return str(f'''Hidden Units={self.hidden_units}; Activation={self.activation}''')\n"
   ]
  },
  {
   "cell_type": "code",
   "execution_count": 29,
   "metadata": {},
   "outputs": [],
   "source": [
    "# Model object with which to run forward and backward propagations\n",
    "class Model:\n",
    "    def __init__(self):\n",
    "        self.layers = dict()\n",
    "        self.cache = dict()\n",
    "        self.losses = []\n",
    "        self.accuracy = []\n",
    "        \n",
    "    def add(self, layer):\n",
    "        self.layers[len(self.layers)+1] = layer\n",
    "        \n",
    "    def forward(self, x):\n",
    "        for idx, layer in self.layers.items():\n",
    "            x = layer.forward(x)\n",
    "            self.cache[f'W{idx}'] = layer.W\n",
    "            self.cache[f'Z{idx}'] = layer.Z\n",
    "            self.cache[f'A{idx}'] = layer.A\n",
    "        return x\n",
    "\n",
    "    def backward(self, y):\n",
    "        global m\n",
    "        dZ_ = self.layers[len(self.layers)].A - y\n",
    "        m = dZ_.shape[0]\n",
    "        for idx, layer in reversed(self.layers.items()):\n",
    "            if layer.activation == 'relu':\n",
    "\n",
    "                dZ = dZ_ @ self.cache[f'W{idx+1}'].T * drelu(layer.Z)\n",
    "                dZ_ = dZ\n",
    "                #print(dZ)\n",
    "                layer.backward(dZ)\n",
    "            else:\n",
    "                layer.backward(dZ_)\n",
    "\n",
    "    def update(self):\n",
    "        for layer in self.layers.values():\n",
    "            layer.update(self.alpha)\n",
    "            \n",
    "    def set_config(self, epochs, alpha):\n",
    "        self.epochs = epochs\n",
    "        self.alpha = alpha\n",
    "            \n",
    "    def fit(self, x_train, y_train, x_test=None, y_test=None, batch_size=32):\n",
    "\n",
    "        ticks = 0\n",
    "        self.losses = []\n",
    "        self.accuracy = []\n",
    "\n",
    "        for i in range(1, self.epochs+1):\n",
    "            print(f'Epoch {i}')\n",
    "            batches = self.create_batches(x_train, y_train, batch_size)\n",
    "            epoch_loss = []\n",
    "            \n",
    "            for x, y in batches:\n",
    "                preds = self.forward(x)\n",
    "                loss = self.compute_loss(y, preds)\n",
    "                epoch_loss.append(loss)\n",
    "\n",
    "                # Backward \n",
    "                self.backward(y)\n",
    "                self.update()\n",
    "                \n",
    "            loss = sum(epoch_loss) / len(epoch_loss)\n",
    "            self.losses.append(loss)\n",
    "            ticks += 1 \n",
    "            \n",
    "            if ticks > 5 and loss > (sum(self.losses[-5:])/5) * 1.2:\n",
    "                self.alpha *= 0.5\n",
    "                ticks = 0   \n",
    "                \n",
    "            if x_test is not None:\n",
    "                pred = self.forward(x_test)\n",
    "                c = np.argmax(pred, axis=1) == np.argmax(y_test, axis=1)\n",
    "                acc = list(c).count(True)/len(c) * 100\n",
    "                self.accuracy.append(acc)\n",
    "\n",
    "                print(f'{loss=} Val{acc=}')\n",
    "        history = {'train_loss': self.losses, 'val_acc': self.accuracy}\n",
    "        \n",
    "\n",
    "    @staticmethod\n",
    "    def compute_loss(Y, Y_hat):\n",
    "        m = Y.shape[0]\n",
    "        L = -1./m * np.sum(Y * np.log(Y_hat))\n",
    "        return L\n",
    "    \n",
    "    @staticmethod\n",
    "    def create_batches(x, y, batch_size):\n",
    "        num_batches = x.shape[0] / batch_size\n",
    "        batches = []\n",
    "        for i in range(int(num_batches+1)):\n",
    "            batch_x = x[i*batch_size:(i+1)*batch_size]\n",
    "            batch_y = y[i*batch_size:(i+1)*batch_size]\n",
    "            batches.append((batch_x, batch_y))\n",
    "\n",
    "        return batches\n",
    "    \n",
    "    def __repr__(self):\n",
    "        return str(self.layers)\n",
    "    \n"
   ]
  },
  {
   "cell_type": "code",
   "execution_count": 30,
   "metadata": {},
   "outputs": [],
   "source": [
    "model = Model()\n",
    "model.add(Layer(128, activation='relu'))\n",
    "model.add(Layer(64, activation='relu'))\n",
    "model.add(Layer(10, activation='softmax'))"
   ]
  },
  {
   "cell_type": "code",
   "execution_count": 31,
   "metadata": {},
   "outputs": [],
   "source": [
    "model.set_config(epochs=30, alpha=0.5)"
   ]
  },
  {
   "cell_type": "code",
   "execution_count": 32,
   "metadata": {},
   "outputs": [
    {
     "name": "stdout",
     "output_type": "stream",
     "text": [
      "Epoch 1\n",
      "loss=0.33514398806970236 Valacc=88.47\n",
      "Epoch 2\n",
      "loss=0.12794838573102157 Valacc=92.38\n",
      "Epoch 3\n",
      "loss=0.08507192777101742 Valacc=96.33\n",
      "Epoch 4\n",
      "loss=0.06415332993118403 Valacc=96.61\n",
      "Epoch 5\n",
      "loss=0.05008562517758903 Valacc=96.97\n",
      "Epoch 6\n",
      "loss=0.03831720291912309 Valacc=97.55\n",
      "Epoch 7\n",
      "loss=0.029266234363264837 Valacc=97.6\n",
      "Epoch 8\n",
      "loss=0.023766112280490005 Valacc=97.35000000000001\n",
      "Epoch 9\n",
      "loss=0.0205459310286884 Valacc=97.53\n",
      "Epoch 10\n",
      "loss=0.017135757676229293 Valacc=97.54\n",
      "Epoch 11\n",
      "loss=0.018083676598728386 Valacc=97.43\n",
      "Epoch 12\n",
      "loss=0.01555943343459655 Valacc=97.25\n",
      "Epoch 13\n",
      "loss=0.009814147765139197 Valacc=97.63\n",
      "Epoch 14\n",
      "loss=0.007750853092848319 Valacc=97.61999999999999\n",
      "Epoch 15\n",
      "loss=0.007482741866854784 Valacc=97.78999999999999\n",
      "Epoch 16\n",
      "loss=0.0054775102801200345 Valacc=97.92999999999999\n",
      "Epoch 17\n",
      "loss=0.00479989851278927 Valacc=97.82\n",
      "Epoch 18\n",
      "loss=0.0037552902957055582 Valacc=97.72999999999999\n",
      "Epoch 19\n",
      "loss=0.0023179716043343415 Valacc=97.87\n",
      "Epoch 20\n",
      "loss=0.0014219048111530736 Valacc=97.88\n",
      "Epoch 21\n",
      "loss=0.000952029705234225 Valacc=97.92999999999999\n",
      "Epoch 22\n",
      "loss=0.0006646734869244087 Valacc=97.97\n",
      "Epoch 23\n",
      "loss=0.0005342641879387414 Valacc=97.94\n",
      "Epoch 24\n",
      "loss=0.0004663020657994418 Valacc=97.96000000000001\n",
      "Epoch 25\n",
      "loss=0.0004105571234546632 Valacc=97.98\n",
      "Epoch 26\n",
      "loss=0.00037089491574724364 Valacc=97.97\n",
      "Epoch 27\n",
      "loss=0.0003378697294679777 Valacc=97.95\n",
      "Epoch 28\n",
      "loss=0.00031155428646658734 Valacc=97.95\n",
      "Epoch 29\n",
      "loss=0.00028935176926840383 Valacc=97.96000000000001\n",
      "Epoch 30\n",
      "loss=0.0002698677632902911 Valacc=97.96000000000001\n"
     ]
    }
   ],
   "source": [
    "model.fit(x_train, y_train, x_test, y_test, batch_size=128)"
   ]
  },
  {
   "cell_type": "code",
   "execution_count": 33,
   "metadata": {},
   "outputs": [
    {
     "data": {
      "text/plain": [
       "[<matplotlib.lines.Line2D at 0x14836c6a0>]"
      ]
     },
     "execution_count": 33,
     "metadata": {},
     "output_type": "execute_result"
    },
    {
     "data": {
      "image/png": "[encoded data removed]",
      "text/plain": [
       "<Figure size 432x288 with 1 Axes>"
      ]
     },
     "metadata": {
      "needs_background": "light"
     },
     "output_type": "display_data"
    }
   ],
   "source": [
    "plt.plot(range(model.epochs), model.losses)"
   ]
  },
  {
   "cell_type": "code",
   "execution_count": 34,
   "metadata": {},
   "outputs": [
    {
     "data": {
      "text/plain": [
       "[<matplotlib.lines.Line2D at 0x1473c25e0>]"
      ]
     },
     "execution_count": 34,
     "metadata": {},
     "output_type": "execute_result"
    },
    {
     "data": {
      "image/png": "[encoded data removed]",
      "text/plain": [
       "<Figure size 432x288 with 1 Axes>"
      ]
     },
     "metadata": {
      "needs_background": "light"
     },
     "output_type": "display_data"
    }
   ],
   "source": [
    "plt.plot(range(model.epochs), model.accuracy)"
   ]
  },
  {
   "cell_type": "code",
   "execution_count": 35,
   "metadata": {},
   "outputs": [],
   "source": [
    "preds = model.forward(x_test)"
   ]
  },
  {
   "cell_type": "code",
   "execution_count": 36,
   "metadata": {},
   "outputs": [],
   "source": [
    "preds = np.argmax(preds, axis=1)"
   ]
  },
  {
   "cell_type": "code",
   "execution_count": 37,
   "metadata": {},
   "outputs": [],
   "source": [
    "acc = preds == np.argmax(y_test, axis=1)\n",
    "pred_bool = preds != np.argmax(y_test, axis=1)"
   ]
  },
  {
   "cell_type": "code",
   "execution_count": 38,
   "metadata": {},
   "outputs": [
    {
     "name": "stdout",
     "output_type": "stream",
     "text": [
      "accuracy=0.9796\n"
     ]
    }
   ],
   "source": [
    "accuracy = list(acc).count(True)/len(acc)\n",
    "print(f'{accuracy=}')"
   ]
  },
  {
   "cell_type": "code",
   "execution_count": 40,
   "metadata": {},
   "outputs": [
    {
     "name": "stdout",
     "output_type": "stream",
     "text": [
      "NN predicted: 4, Label: 6\n"
     ]
    },
    {
     "data": {
      "image/png": "[encoded data removed]",
      "text/plain": [
       "<Figure size 432x288 with 1 Axes>"
      ]
     },
     "metadata": {
      "needs_background": "light"
     },
     "output_type": "display_data"
    }
   ],
   "source": [
    "# Example of wrong prediction\n",
    "idx = np.random.choice(np.where(pred_bool==True)[0])\n",
    "\n",
    "plt.imshow(x_test[idx].reshape(28,28))\n",
    "print(f'NN predicted: {preds[idx]}, Label: {np.argmax(y_test[idx])}')"
   ]
  },
  {
   "cell_type": "code",
   "execution_count": null,
   "metadata": {},
   "outputs": [],
   "source": [
    "# can't fault the NN for that one "
   ]
  }
 ],
 "metadata": {
  "kernelspec": {
   "display_name": "Python 3",
   "language": "python",
   "name": "python3"
  },
  "language_info": {
   "codemirror_mode": {
    "name": "ipython",
    "version": 3
   },
   "file_extension": ".py",
   "mimetype": "text/x-python",
   "name": "python",
   "nbconvert_exporter": "python",
   "pygments_lexer": "ipython3",
   "version": "3.8.1"
  }
 },
 "nbformat": 4,
 "nbformat_minor": 4
}
